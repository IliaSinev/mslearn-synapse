{
  "cells": [
    {
      "cell_type": "markdown",
      "source": [
        "# Creating a Classification Model\n",
        "\n",
        "In this exercise, you will implement a classification model that uses features of a flight to predict whether or not it will be late.\n",
        "\n",
        "## Import Spark SQL and Spark ML Libraries\n",
        "\n",
        "First, import the libraries you will need:"
      ],
      "metadata": {}
    },
    {
      "cell_type": "code",
      "source": [
        "from pyspark.sql.types import *\n",
        "from pyspark.sql.functions import *\n",
        "\n",
        "from pyspark.ml.classification import LogisticRegression\n",
        "from pyspark.ml.feature import StringIndexer, VectorAssembler\n",
        "\n",
        "print(\"Libraries imported!\")"
      ],
      "outputs": [
        {
          "output_type": "display_data",
          "data": {
            "application/vnd.livy.statement-meta+json": {
              "spark_pool": "sparkyh4u3ae",
              "session_id": 2,
              "statement_id": 28,
              "state": "finished",
              "livy_statement_state": "available",
              "queued_time": "2022-07-13T22:58:29.8774438Z",
              "session_start_time": null,
              "execution_start_time": "2022-07-13T22:58:29.9809134Z",
              "execution_finish_time": "2022-07-13T22:58:30.1276376Z"
            },
            "text/plain": "StatementMeta(sparkyh4u3ae, 2, 28, Finished, Available)"
          },
          "metadata": {}
        },
        {
          "output_type": "stream",
          "name": "stdout",
          "text": [
            "Libraries imported!\n"
          ]
        }
      ],
      "execution_count": 29,
      "metadata": {}
    },
    {
      "cell_type": "markdown",
      "source": [
        "### Load Source Data\n",
        "The data for this exercise is provided as a CSV file containing details of flights that has already been cleaned up for modeling. The data includes specific characteristics (or *features*) for each flight, as well as a *label* column indicating whether or not the flight was late (a flight with an arrival delay of more than 25 minutes is considered *late*).\n",
        "\n",
        "You will load this data into a dataframe and display it."
      ],
      "metadata": {}
    },
    {
      "cell_type": "code",
      "source": [
        "flightSchema = StructType([\n",
        "  StructField(\"DayofMonth\", IntegerType(), False),\n",
        "  StructField(\"DayOfWeek\", IntegerType(), False),\n",
        "  StructField(\"Carrier\", StringType(), False),\n",
        "  StructField(\"OriginAirportID\", IntegerType(), False),\n",
        "  StructField(\"DestAirportID\", IntegerType(), False),\n",
        "  StructField(\"DepDelay\", IntegerType(), False),\n",
        "  StructField(\"ArrDelay\", IntegerType(), False),\n",
        "  StructField(\"Late\", IntegerType(), False),\n",
        "])\n",
        "\n",
        "data = spark.read.csv('/data/flights.csv', schema=flightSchema, header=True)\n",
        "display(data.limit(20))"
      ],
      "outputs": [
        {
          "output_type": "display_data",
          "data": {
            "application/vnd.livy.statement-meta+json": {
              "spark_pool": "sparkyh4u3ae",
              "session_id": 2,
              "statement_id": 4,
              "state": "finished",
              "livy_statement_state": "available",
              "queued_time": "2022-07-13T22:40:23.1452557Z",
              "session_start_time": null,
              "execution_start_time": "2022-07-13T22:40:23.2652483Z",
              "execution_finish_time": "2022-07-13T22:40:26.1048417Z"
            },
            "text/plain": "StatementMeta(sparkyh4u3ae, 2, 4, Finished, Available)"
          },
          "metadata": {}
        },
        {
          "output_type": "display_data",
          "data": {
            "application/vnd.synapse.widget-view+json": {
              "widget_id": "d56c2b57-53c8-41a1-98b7-d26e52d48c31",
              "widget_type": "Synapse.DataFrame"
            },
            "text/plain": "SynapseWidget(Synapse.DataFrame, d56c2b57-53c8-41a1-98b7-d26e52d48c31)"
          },
          "metadata": {}
        }
      ],
      "execution_count": 5,
      "metadata": {
        "collapsed": false,
        "scrolled": false
      }
    },
    {
      "cell_type": "markdown",
      "source": [
        "### Split the Data\n",
        "It is common practice when building supervised machine learning models to split the source data, using some of it to train the model and reserving some to test the trained model. In this exercise, you will use 70% of the data for training, and reserve 30% for testing."
      ],
      "metadata": {}
    },
    {
      "cell_type": "code",
      "source": [
        "splits = data.randomSplit([0.7, 0.3])\n",
        "train = splits[0]\n",
        "test = splits[1]\n",
        "train_rows = train.count()\n",
        "test_rows = test.count()\n",
        "print (\"Training Rows:\", train_rows, \" Testing Rows:\", test_rows)"
      ],
      "outputs": [
        {
          "output_type": "display_data",
          "data": {
            "application/vnd.livy.statement-meta+json": {
              "spark_pool": "sparkyh4u3ae",
              "session_id": 2,
              "statement_id": 5,
              "state": "finished",
              "livy_statement_state": "available",
              "queued_time": "2022-07-13T22:40:38.9003984Z",
              "session_start_time": null,
              "execution_start_time": "2022-07-13T22:40:39.0010595Z",
              "execution_finish_time": "2022-07-13T22:40:44.9413488Z"
            },
            "text/plain": "StatementMeta(sparkyh4u3ae, 2, 5, Finished, Available)"
          },
          "metadata": {}
        },
        {
          "output_type": "stream",
          "name": "stdout",
          "text": [
            "Training Rows: 445365  Testing Rows: 191718\n"
          ]
        }
      ],
      "execution_count": 6,
      "metadata": {}
    },
    {
      "cell_type": "markdown",
      "source": [
        "### Prepare the Training Data\n",
        "To train the classification model, you need a training data set that includes a vector of numeric features, and a label column. In this exercise, you will use the **StringIndexer** class to generate a numeric category for each discrete **Carrier** string value, and then use the **VectorAssembler** class to transform the numeric features that would be available for a flight that hasn't yet arrived into a vector, and then rename the **Late** column to **label** as this is what we're going to try to predict.\n",
        "\n",
        "*Note: This is a deliberately simple example. In reality you'd likely perform multiple data preparation steps, and later in this course we'll examine how to encapsulate these steps in to a pipeline. For now, we'll just use the numeric features as they are to define the training dataset.*"
      ],
      "metadata": {}
    },
    {
      "cell_type": "code",
      "source": [
        "# Carrier is a string, and we need our features to be numeric - so we'll generate a numeric index for each distinct carrier string, and transform the dataframe to add that as a column\n",
        "carrierIndexer = StringIndexer(inputCol=\"Carrier\", outputCol=\"CarrierIdx\")\n",
        "numTrain = carrierIndexer.fit(train).transform(train)\n",
        "\n",
        "# Now we'll assemble a vector of all the numeric feature columns (other than ArrDelay, which we wouldn't have for enroute flights)\n",
        "assembler = VectorAssembler(inputCols = [\"DayofMonth\", \"DayOfWeek\", \"CarrierIdx\", \"OriginAirportID\", \"DestAirportID\", \"DepDelay\"], outputCol=\"features\")\n",
        "training = assembler.transform(numTrain).select(col(\"features\"), col(\"Late\").alias(\"label\"))\n",
        "training.show()"
      ],
      "outputs": [
        {
          "output_type": "display_data",
          "data": {
            "application/vnd.livy.statement-meta+json": {
              "spark_pool": "sparkyh4u3ae",
              "session_id": 2,
              "statement_id": 8,
              "state": "finished",
              "livy_statement_state": "available",
              "queued_time": "2022-07-13T22:42:12.5135089Z",
              "session_start_time": null,
              "execution_start_time": "2022-07-13T22:42:12.6211061Z",
              "execution_finish_time": "2022-07-13T22:42:16.505643Z"
            },
            "text/plain": "StatementMeta(sparkyh4u3ae, 2, 8, Finished, Available)"
          },
          "metadata": {}
        },
        {
          "output_type": "stream",
          "name": "stdout",
          "text": [
            "+--------------------+-----+\n|            features|label|\n+--------------------+-----+\n|[1.0,1.0,10.0,103...|    1|\n|[1.0,1.0,10.0,105...|    1|\n|[1.0,1.0,10.0,107...|    0|\n|[1.0,1.0,10.0,107...|    1|\n|[1.0,1.0,10.0,110...|    1|\n|[1.0,1.0,10.0,111...|    1|\n|[1.0,1.0,10.0,111...|    1|\n|[1.0,1.0,10.0,111...|    0|\n|[1.0,1.0,10.0,111...|    1|\n|[1.0,1.0,10.0,111...|    0|\n|[1.0,1.0,10.0,111...|    1|\n|[1.0,1.0,10.0,123...|    0|\n|[1.0,1.0,10.0,124...|    0|\n|[1.0,1.0,10.0,124...|    0|\n|[1.0,1.0,10.0,124...|    1|\n|[1.0,1.0,10.0,124...|    0|\n|[1.0,1.0,10.0,124...|    1|\n|[1.0,1.0,10.0,132...|    0|\n|[1.0,1.0,10.0,132...|    0|\n|[1.0,1.0,10.0,132...|    1|\n+--------------------+-----+\nonly showing top 20 rows\n\n"
          ]
        }
      ],
      "execution_count": 9,
      "metadata": {
        "collapsed": false,
        "scrolled": false
      }
    },
    {
      "cell_type": "markdown",
      "source": [
        "### Train a Classification Model\n",
        "Next, you need to train a classification model using the training data. To do this, create an instance of the classification algorithm you want to use and use its **fit** method to train a model based on the training dataframe. In this exercise, you will use a *Logistic Regression* classification algorithm - but you can use the same technique for any of the classification algorithms supported in the spark.ml API."
      ],
      "metadata": {}
    },
    {
      "cell_type": "code",
      "source": [
        "lr = LogisticRegression(labelCol=\"label\",featuresCol=\"features\",maxIter=10,regParam=0.3)\n",
        "model = lr.fit(training)\n",
        "print (\"Model trained!\")"
      ],
      "outputs": [
        {
          "output_type": "display_data",
          "data": {
            "application/vnd.livy.statement-meta+json": {
              "spark_pool": "sparkyh4u3ae",
              "session_id": 2,
              "statement_id": 59,
              "state": "finished",
              "livy_statement_state": "available",
              "queued_time": "2022-07-13T23:47:31.1670308Z",
              "session_start_time": null,
              "execution_start_time": "2022-07-13T23:47:31.2699863Z",
              "execution_finish_time": "2022-07-13T23:47:38.9673613Z"
            },
            "text/plain": "StatementMeta(sparkyh4u3ae, 2, 59, Finished, Available)"
          },
          "metadata": {}
        },
        {
          "output_type": "stream",
          "name": "stdout",
          "text": [
            "Model trained!\n"
          ]
        }
      ],
      "execution_count": 60,
      "metadata": {
        "scrolled": false
      }
    },
    {
      "cell_type": "markdown",
      "source": [
        "### Prepare the Testing Data\n",
        "Now that you have a trained model, you can test it using the testing data you reserved previously. First, you need to prepare the testing data in the same way as you did the training data by transforming the feature columns into a vector. This time you'll rename the **Late** column to **trueLabel**."
      ],
      "metadata": {}
    },
    {
      "cell_type": "code",
      "source": [
        "# Transform the test data to add the numeric carrier index\n",
        "numTest = carrierIndexer.fit(test).transform(test)\n",
        "\n",
        "# Generate the features vector and label\n",
        "testing = assembler.transform(numTest).select(col(\"features\"), col(\"Late\").alias(\"trueLabel\"))\n",
        "testing.show()"
      ],
      "outputs": [
        {
          "output_type": "display_data",
          "data": {
            "application/vnd.livy.statement-meta+json": {
              "spark_pool": "sparkyh4u3ae",
              "session_id": 2,
              "statement_id": 10,
              "state": "finished",
              "livy_statement_state": "available",
              "queued_time": "2022-07-13T22:42:42.6014359Z",
              "session_start_time": null,
              "execution_start_time": "2022-07-13T22:42:42.7100606Z",
              "execution_finish_time": "2022-07-13T22:42:46.7198994Z"
            },
            "text/plain": "StatementMeta(sparkyh4u3ae, 2, 10, Finished, Available)"
          },
          "metadata": {}
        },
        {
          "output_type": "stream",
          "name": "stdout",
          "text": [
            "+--------------------+---------+\n|            features|trueLabel|\n+--------------------+---------+\n|[1.0,1.0,10.0,103...|        0|\n|[1.0,1.0,10.0,107...|        1|\n|[1.0,1.0,10.0,110...|        0|\n|[1.0,1.0,10.0,110...|        0|\n|[1.0,1.0,10.0,111...|        1|\n|[1.0,1.0,10.0,111...|        1|\n|[1.0,1.0,10.0,111...|        1|\n|[1.0,1.0,10.0,111...|        0|\n|[1.0,1.0,10.0,111...|        0|\n|[1.0,1.0,10.0,112...|        1|\n|[1.0,1.0,10.0,114...|        0|\n|[1.0,1.0,10.0,114...|        1|\n|[1.0,1.0,10.0,114...|        1|\n|[1.0,1.0,10.0,123...|        1|\n|[1.0,1.0,10.0,124...|        1|\n|[1.0,1.0,10.0,124...|        1|\n|[1.0,1.0,10.0,124...|        1|\n|[1.0,1.0,10.0,134...|        1|\n|[1.0,1.0,10.0,139...|        0|\n|[1.0,1.0,2.0,1039...|        1|\n+--------------------+---------+\nonly showing top 20 rows\n\n"
          ]
        }
      ],
      "execution_count": 11,
      "metadata": {}
    },
    {
      "cell_type": "markdown",
      "source": [
        "### Test the Model\n",
        "Now you're ready to use the **transform** method of the model to generate some predictions. You can use this approach to predict delay status for flights where the label is unknown; but in this case you are using the test data which includes a known true label value, so you can compare the predicted status to the actual status."
      ],
      "metadata": {}
    },
    {
      "cell_type": "code",
      "source": [
        "prediction = model.transform(testing)\n",
        "predicted = prediction.select(\"features\", \"probability\", col(\"prediction\").cast(\"Int\"), \"trueLabel\")\n",
        "display(predicted.limit(100))"
      ],
      "outputs": [
        {
          "output_type": "display_data",
          "data": {
            "application/vnd.livy.statement-meta+json": {
              "spark_pool": "sparkyh4u3ae",
              "session_id": 2,
              "statement_id": 60,
              "state": "finished",
              "livy_statement_state": "available",
              "queued_time": "2022-07-13T23:47:47.1626811Z",
              "session_start_time": null,
              "execution_start_time": "2022-07-13T23:47:47.2627525Z",
              "execution_finish_time": "2022-07-13T23:47:49.1644227Z"
            },
            "text/plain": "StatementMeta(sparkyh4u3ae, 2, 60, Finished, Available)"
          },
          "metadata": {}
        },
        {
          "output_type": "display_data",
          "data": {
            "application/vnd.synapse.widget-view+json": {
              "widget_id": "2db6a258-78c5-4e1b-9805-07d78c93e92d",
              "widget_type": "Synapse.DataFrame"
            },
            "text/plain": "SynapseWidget(Synapse.DataFrame, 2db6a258-78c5-4e1b-9805-07d78c93e92d)"
          },
          "metadata": {}
        }
      ],
      "execution_count": 61,
      "metadata": {
        "collapsed": false,
        "scrolled": false
      }
    },
    {
      "cell_type": "markdown",
      "source": [
        "Looking at the result, the **prediction** column contains the predicted value for the label, and the **trueLabel** column contains the actual known value from the testing data. The **probability** column shows the probability score for each class (0 or 1). It looks like there are a mix of correct and incorrect predictions, and the ones that are incorrect tend to have fairly close probabilities for each class. Later in this course you'll learn how to measure the accuracy of a model."
      ],
      "metadata": {}
    },
    {
      "cell_type": "markdown",
      "source": [
        "## Compute Confusion Matrix Metrics\r\n",
        "Classifiers are typically evaluated by creating a *confusion matrix*, which indicates the number of:\r\n",
        "- True Positives\r\n",
        "- True Negatives\r\n",
        "- False Positives\r\n",
        "- False Negatives\r\n",
        "\r\n",
        "From these core measures, other evaluation metrics such as *precision* and *recall* can be calculated."
      ],
      "metadata": {
        "nteract": {
          "transient": {
            "deleting": false
          }
        }
      }
    },
    {
      "cell_type": "code",
      "source": [
        "tp = float(predicted.filter(\"prediction == 1.0 AND truelabel == 1\").count())\r\n",
        "fp = float(predicted.filter(\"prediction == 1.0 AND truelabel == 0\").count())\r\n",
        "tn = float(predicted.filter(\"prediction == 0.0 AND truelabel == 0\").count())\r\n",
        "fn = float(predicted.filter(\"prediction == 0.0 AND truelabel == 1\").count())\r\n",
        "metrics = spark.createDataFrame([\r\n",
        " (\"TP\", tp),\r\n",
        " (\"FP\", fp),\r\n",
        " (\"TN\", tn),\r\n",
        " (\"FN\", fn),\r\n",
        " (\"Precision\", tp / (tp + fp)),\r\n",
        " (\"Recall\", tp / (tp + fn))],[\"metric\", \"value\"])\r\n",
        "display(metrics)"
      ],
      "outputs": [
        {
          "output_type": "display_data",
          "data": {
            "application/vnd.livy.statement-meta+json": {
              "spark_pool": "sparkyh4u3ae",
              "session_id": 2,
              "statement_id": 13,
              "state": "finished",
              "livy_statement_state": "available",
              "queued_time": "2022-07-13T22:48:31.2326993Z",
              "session_start_time": null,
              "execution_start_time": "2022-07-13T22:48:31.3455471Z",
              "execution_finish_time": "2022-07-13T22:48:40.0212824Z"
            },
            "text/plain": "StatementMeta(sparkyh4u3ae, 2, 13, Finished, Available)"
          },
          "metadata": {}
        },
        {
          "output_type": "display_data",
          "data": {
            "application/vnd.synapse.widget-view+json": {
              "widget_id": "73c7b169-7895-41d1-88f5-d555b03ba6ff",
              "widget_type": "Synapse.DataFrame"
            },
            "text/plain": "SynapseWidget(Synapse.DataFrame, 73c7b169-7895-41d1-88f5-d555b03ba6ff)"
          },
          "metadata": {}
        }
      ],
      "execution_count": 14,
      "metadata": {
        "jupyter": {
          "source_hidden": false,
          "outputs_hidden": false
        },
        "nteract": {
          "transient": {
            "deleting": false
          }
        },
        "collapsed": false
      }
    },
    {
      "cell_type": "markdown",
      "source": [
        "## View the Raw Prediction and Probability\r\n",
        "The prediction is based on a raw prediction score that describes a labelled point in a logistic function. This raw prediction is then converted to a predicted label of 0 or 1 based on a probability vector that indicates the confidence for each possible label value (in this case, 0 and 1). The value with the highest confidence is selected as the prediction."
      ],
      "metadata": {
        "nteract": {
          "transient": {
            "deleting": false
          }
        }
      }
    },
    {
      "cell_type": "code",
      "source": [
        "prediction.select(\"rawPrediction\", \"probability\", \"prediction\", \"trueLabel\").show(100, truncate=False)"
      ],
      "outputs": [
        {
          "output_type": "display_data",
          "data": {
            "application/vnd.livy.statement-meta+json": {
              "spark_pool": "sparkyh4u3ae",
              "session_id": 2,
              "statement_id": 24,
              "state": "finished",
              "livy_statement_state": "available",
              "queued_time": "2022-07-13T22:56:22.4991533Z",
              "session_start_time": null,
              "execution_start_time": "2022-07-13T22:56:22.5919485Z",
              "execution_finish_time": "2022-07-13T22:56:24.3828356Z"
            },
            "text/plain": "StatementMeta(sparkyh4u3ae, 2, 24, Finished, Available)"
          },
          "metadata": {}
        },
        {
          "output_type": "stream",
          "name": "stdout",
          "text": [
            "+--------------------------------------------+----------------------------------------+----------+---------+\n|rawPrediction                               |probability                             |prediction|trueLabel|\n+--------------------------------------------+----------------------------------------+----------+---------+\n|[0.2695972690481415,-0.2695972690481415]    |[0.5669940324336752,0.4330059675663248] |0.0       |0        |\n|[-0.16466933528946848,0.16466933528946848]  |[0.4589254390405842,0.5410745609594159] |1.0       |1        |\n|[0.03578346253693776,-0.03578346253693776]  |[0.5089449111906935,0.4910550888093065] |0.0       |0        |\n|[0.32984942246596965,-0.32984942246596965]  |[0.5817227385572761,0.4182772614427239] |0.0       |0        |\n|[-0.01971503497279775,0.01971503497279775]  |[0.4950714008941609,0.5049285991058391] |1.0       |1        |\n|[-0.8564231249996024,0.8564231249996024]    |[0.2980871986683579,0.701912801331642]  |1.0       |1        |\n|[-0.7218988070626087,0.7218988070626087]    |[0.3269749897933966,0.6730250102066033] |1.0       |1        |\n|[0.25536984759773307,-0.25536984759773307]  |[0.56349775908432,0.43650224091568]     |0.0       |0        |\n|[0.36638456594109614,-0.36638456594109614]  |[0.5905850740843681,0.4094149259156319] |0.0       |0        |\n|[-0.7591106845046769,0.7591106845046769]    |[0.3188393773626564,0.6811606226373437] |1.0       |1        |\n|[0.32983123412302595,-0.32983123412302595]  |[0.5817183129377383,0.41828168706226165]|0.0       |0        |\n|[0.2821687692478941,-0.2821687692478941]    |[0.5700778462214778,0.42992215377852216]|0.0       |1        |\n|[0.2868795948024486,-0.2868795948024486]    |[0.5712320350350734,0.42876796496492664]|0.0       |1        |\n|[0.4127543854813533,-0.4127543854813533]    |[0.6017481445580857,0.3982518554419143] |0.0       |1        |\n|[-0.5073719684960651,0.5073719684960651]    |[0.37580979924489516,0.6241902007551048]|1.0       |1        |\n|[-1.3235250435582566,1.3235250435582566]    |[0.2102324159275515,0.7897675840724485] |1.0       |1        |\n|[-2.0409897589851824,2.0409897589851824]    |[0.11496598686303472,0.8850340131369653]|1.0       |1        |\n|[-1.3323553621065807,1.3323553621065807]    |[0.2087700275935402,0.7912299724064598] |1.0       |1        |\n|[0.5191690222732563,-0.5191690222732563]    |[0.6269534354069688,0.3730465645930312] |0.0       |0        |\n|[-0.36164891418972406,0.36164891418972406]  |[0.41056046899941767,0.5894395310005823]|1.0       |1        |\n|[0.3152652042928496,-0.3152652042928496]    |[0.5781699147577964,0.42183008524220356]|0.0       |0        |\n|[-1.015481927124869,1.015481927124869]      |[0.2659084001503113,0.7340915998496886] |1.0       |1        |\n|[-0.497362504864338,0.497362504864338]      |[0.37816068984456425,0.6218393101554358]|1.0       |1        |\n|[0.292632947526692,-0.292632947526692]      |[0.5726405995406372,0.4273594004593628] |0.0       |0        |\n|[0.11468193186843856,-0.11468193186843856]  |[0.5286391015200584,0.47136089847994156]|0.0       |0        |\n|[-0.5796349713972593,0.5796349713972593]    |[0.35901659106627987,0.6409834089337201]|1.0       |1        |\n|[0.33726362736432686,-0.33726362736432686]  |[0.5835256725554006,0.41647432744459945]|0.0       |0        |\n|[0.37778279828015116,-0.37778279828015116]  |[0.5933382297322398,0.4066617702677602] |0.0       |0        |\n|[0.3047164281835611,-0.3047164281835611]    |[0.575595080077917,0.42440491992208296] |0.0       |0        |\n|[-0.8512155401740504,0.8512155401740504]    |[0.2991779324157127,0.7008220675842873] |1.0       |1        |\n|[0.3476655378596987,-0.3476655378596987]    |[0.5860513636948621,0.4139486363051379] |0.0       |0        |\n|[-0.6940652367380855,0.6940652367380855]    |[0.33312935207467137,0.6668706479253286]|1.0       |1        |\n|[0.2935388257109225,-0.2935388257109225]    |[0.5728622744763497,0.42713772552365026]|0.0       |0        |\n|[0.1863346931507782,-0.1863346931507782]    |[0.5464493551360738,0.45355064486392616]|0.0       |0        |\n|[-0.83442120147454,0.83442120147454]        |[0.30271104274685345,0.6972889572531465]|1.0       |1        |\n|[-0.8759832563807775,0.8759832563807775]    |[0.294010837816311,0.705989162183689]   |1.0       |1        |\n|[0.34216883488628264,-0.34216883488628264]  |[0.5847172624728836,0.4152827375271164] |0.0       |1        |\n|[-0.48622785216838343,0.48622785216838343]  |[0.3807825910145216,0.6192174089854784] |1.0       |1        |\n|[-0.7700023533638758,0.7700023533638758]    |[0.31647859718403865,0.6835214028159613]|1.0       |1        |\n|[0.3673031759843358,-0.3673031759843358]    |[0.5908071703007215,0.4091928296992785] |0.0       |0        |\n|[-0.998191362261849,0.998191362261849]      |[0.2692971697029287,0.7307028302970713] |1.0       |1        |\n|[-0.8328566411865033,0.8328566411865033]    |[0.3030413874444044,0.6969586125555955] |1.0       |1        |\n|[0.2041413333291632,-0.2041413333291632]    |[0.5508588329750964,0.4491411670249036] |0.0       |1        |\n|[-0.27036615575023876,0.27036615575023876]  |[0.43281720654092504,0.567182793459075] |1.0       |1        |\n|[0.4762211570059531,-0.4762211570059531]    |[0.6168551598719224,0.3831448401280776] |0.0       |0        |\n|[-0.6816989430646418,0.6816989430646418]    |[0.33588222165136705,0.664117778348633] |1.0       |1        |\n|[0.41519402894909757,-0.41519402894909757]  |[0.602332653182865,0.397667346817135]   |0.0       |0        |\n|[0.10448592354316932,-0.10448592354316932]  |[0.5260977421136416,0.4739022578863584] |0.0       |0        |\n|[0.4928745793086387,-0.4928745793086387]    |[0.6207833755835751,0.3792166244164249] |0.0       |1        |\n|[-1.3896510005037497,1.3896510005037497]    |[0.19946347847511692,0.8005365215248831]|1.0       |1        |\n|[-0.6060865440330114,0.6060865440330114]    |[0.3529524261349928,0.6470475738650072] |1.0       |1        |\n|[-1.0647608309661365,1.0647608309661365]    |[0.2564007054075559,0.7435992945924441] |1.0       |1        |\n|[-0.7642468232105044,0.7642468232105044]    |[0.3177249458922357,0.6822750541077642] |1.0       |1        |\n|[0.4635065043266696,-0.4635065043266696]    |[0.6138456860657356,0.38615431393426436]|0.0       |0        |\n|[-0.5586283720223482,0.5586283720223482]    |[0.363864887326531,0.636135112673469]   |1.0       |1        |\n|[0.42634147381935805,-0.42634147381935805]  |[0.6049997086152691,0.3950002913847309] |0.0       |1        |\n|[0.35712410549872325,-0.35712410549872325]  |[0.5883440832617346,0.4116559167382654] |0.0       |0        |\n|[-1.3085319976745513,1.3085319976745513]    |[0.21273259771262,0.78726740228738]     |1.0       |1        |\n|[0.2784359180917795,-0.2784359180917795]    |[0.5691627267844765,0.43083727321552345]|0.0       |0        |\n|[0.4921234477418828,-0.4921234477418828]    |[0.6206065346323104,0.3793934653676896] |0.0       |0        |\n|[-0.4919234577082257,0.4919234577082257]    |[0.37944055496948365,0.6205594450305163]|1.0       |1        |\n|[-0.2014759784680074,0.2014759784680074]    |[0.44980070049144616,0.5501992995085538]|1.0       |1        |\n|[0.23165228498176987,-0.23165228498176987]  |[0.5576554721333926,0.4423445278666074] |0.0       |0        |\n|[0.41216595525174027,-0.41216595525174027]  |[0.6016071203941625,0.39839287960583747]|0.0       |0        |\n|[0.4030999242995687,-0.4030999242995687]    |[0.5994322218606546,0.4005677781393454] |0.0       |0        |\n|[0.5136985472556188,-0.5136985472556188]    |[0.6256730992595847,0.3743269007404153] |0.0       |0        |\n|[0.3942704420986854,-0.3942704420986854]    |[0.5973102972148173,0.4026897027851827] |0.0       |0        |\n|[-0.8149254125143841,0.8149254125143841]    |[0.306841914454374,0.6931580855456261]  |1.0       |1        |\n|[-1.3402626865642657,1.3402626865642657]    |[0.20746686316933186,0.7925331368306682]|1.0       |1        |\n|[-1.0571894961440076,1.0571894961440076]    |[0.25784691187212916,0.7421530881278708]|1.0       |1        |\n|[0.045491206102152515,-0.045491206102152515]|[0.5113708406444805,0.48862915935551954]|0.0       |1        |\n|[0.1927146574434279,-0.1927146574434279]    |[0.54803010735426,0.45196989264573995]  |0.0       |1        |\n|[-1.7825959131835614,1.7825959131835614]    |[0.1439828872889786,0.8560171127110214] |1.0       |1        |\n|[-0.2338572185871834,0.2338572185871834]    |[0.44180069335904526,0.5581993066409547]|1.0       |1        |\n|[0.3276972460799526,-0.3276972460799526]    |[0.5811989760807972,0.4188010239192028] |0.0       |1        |\n|[-0.8910692799576319,0.8910692799576319]    |[0.29088921488433345,0.7091107851156666]|1.0       |1        |\n|[-1.4895143435147906,1.4895143435147906]    |[0.1839946329892278,0.8160053670107722] |1.0       |1        |\n|[0.423161748071403,-0.423161748071403]      |[0.6042395803162856,0.39576041968371445]|0.0       |0        |\n|[-0.5504121214184394,0.5504121214184394]    |[0.3657687989568752,0.6342312010431248] |1.0       |1        |\n|[-0.39720041414768836,0.39720041414768836]  |[0.40198515592144207,0.598014844078558] |1.0       |1        |\n|[-0.8906779933218096,0.8906779933218096]    |[0.29096993323070325,0.7090300667692968]|1.0       |1        |\n|[-1.8156615452247262,1.8156615452247262]    |[0.13995526792243643,0.8600447320775636]|1.0       |1        |\n|[0.33719949139939875,-0.33719949139939875]  |[0.5835100859276713,0.4164899140723287] |0.0       |1        |\n|[0.41317902671431905,-0.41317902671431905]  |[0.601849904291231,0.398150095708769]   |0.0       |0        |\n|[-0.019102927553750704,0.019102927553750704]|[0.4952244133370021,0.5047755866629979] |1.0       |1        |\n|[-1.7697350357804016,1.7697350357804016]    |[0.14557528291836966,0.8544247170816304]|1.0       |1        |\n|[-1.6660075254003563,1.6660075254003563]    |[0.15895720554530865,0.8410427944546913]|1.0       |1        |\n|[-2.1318113919283115,2.1318113919283115]    |[0.10604315275957814,0.8939568472404219]|1.0       |1        |\n|[-0.720464422257441,0.720464422257441]      |[0.32729072218419786,0.6727092778158021]|1.0       |1        |\n|[0.4378949552160441,-0.4378949552160441]    |[0.6077573265645759,0.39224267343542407]|0.0       |0        |\n|[-0.8961544966432262,0.8961544966432262]    |[0.28984139009979315,0.7101586099002068]|1.0       |1        |\n|[-1.1493809176347183,1.1493809176347183]    |[0.240602179139481,0.759397820860519]   |1.0       |1        |\n|[-1.789074075823394,1.789074075823394]      |[0.14318628200873285,0.8568137179912672]|1.0       |1        |\n|[-1.6670279877670173,1.6670279877670173]    |[0.15882082759726948,0.8411791724027305]|1.0       |1        |\n|[-0.7861668059477,0.7861668059477]          |[0.3129923225273454,0.6870076774726546] |1.0       |1        |\n|[0.05593864088528727,-0.05593864088528727]  |[0.5139810147085938,0.4860189852914062] |0.0       |0        |\n|[-1.2184196666398655,1.2184196666398655]    |[0.22821467945693386,0.7717853205430661]|1.0       |1        |\n|[0.36903026570518743,-0.36903026570518743]  |[0.591224635673207,0.40877536432679296] |0.0       |0        |\n|[0.42748122224210466,-0.42748122224210466]  |[0.6052720474431824,0.3947279525568176] |0.0       |0        |\n|[0.2629886958507309,-0.2629886958507309]    |[0.5653708369972043,0.43462916300279575]|0.0       |1        |\n+--------------------------------------------+----------------------------------------+----------+---------+\nonly showing top 100 rows\n\n"
          ]
        }
      ],
      "execution_count": 25,
      "metadata": {
        "jupyter": {
          "source_hidden": false,
          "outputs_hidden": false
        },
        "nteract": {
          "transient": {
            "deleting": false
          }
        }
      }
    },
    {
      "cell_type": "markdown",
      "source": [
        "Note that the results include rows where the probability for 0 (the first value in the **probability** vector) is only slightly higher than the probability for 1 (the second value in the **probability** vector). The default *discrimination threshold* (the boundary that decides whether a probability is predicted as a 1 or a 0) is set to 0.5; so the prediction with the highest probability is always used, no matter how close to the threshold.\r\n",
        "\r\n",
        "### Review the Area Under ROC\r\n",
        "Another way to assess the performance of a classification model is to measure the area under a *received operator characteristic (ROC) curve* for the model. Spark MLlib includes a **BinaryClassificationEvaluator** class that you can use to compute this. A ROC curve plots the True Positive and False Positive rates for varying threshold values (the probability value over which a positive label is predicted). The area under this curve gives an overall indication of the model's predictive performance as a value between 0 and 1. A value under 0.5 means that a binary classification model (which predicts one of two possible labels) is no better at predicting the right class than a random 50/50 guess."
      ],
      "metadata": {
        "nteract": {
          "transient": {
            "deleting": false
          }
        }
      }
    },
    {
      "cell_type": "code",
      "source": [
        "import matplotlib.pyplot as plt\r\n",
        "from pyspark.ml.evaluation import BinaryClassificationEvaluator\r\n",
        "\r\n",
        "# Plot the ROC curve\r\n",
        "modelSummary = model.summary\r\n",
        "plt.plot([0, 1], [0, 1], 'r--')\r\n",
        "plt.plot(modelSummary.roc.select('FPR').collect(),\r\n",
        "         modelSummary.roc.select('TPR').collect())\r\n",
        "plt.xlabel('False Positive Rate')\r\n",
        "plt.ylabel('True Positive Rate')\r\n",
        "plt.show()\r\n",
        "\r\n",
        "# Get the AUC\r\n",
        "evaluator = BinaryClassificationEvaluator(labelCol=\"trueLabel\", rawPredictionCol=\"rawPrediction\", metricName=\"areaUnderROC\")\r\n",
        "auc = evaluator.evaluate(prediction)\r\n",
        "print (\"AUC = \", auc)"
      ],
      "outputs": [
        {
          "output_type": "display_data",
          "data": {
            "application/vnd.livy.statement-meta+json": {
              "spark_pool": "sparkyh4u3ae",
              "session_id": 2,
              "statement_id": 31,
              "state": "finished",
              "livy_statement_state": "available",
              "queued_time": "2022-07-13T23:10:20.2762902Z",
              "session_start_time": null,
              "execution_start_time": "2022-07-13T23:10:20.3917477Z",
              "execution_finish_time": "2022-07-13T23:10:24.3688236Z"
            },
            "text/plain": "StatementMeta(sparkyh4u3ae, 2, 31, Finished, Available)"
          },
          "metadata": {}
        },
        {
          "output_type": "display_data",
          "data": {
            "text/plain": "<Figure size 432x288 with 1 Axes>",
            "image/png": "[encoded data removed]"
          },
          "metadata": {
            "needs_background": "light"
          }
        },
        {
          "output_type": "stream",
          "name": "stdout",
          "text": [
            "AUC =  0.9456292621248085\n"
          ]
        }
      ],
      "execution_count": 32,
      "metadata": {
        "jupyter": {
          "source_hidden": false,
          "outputs_hidden": false
        },
        "nteract": {
          "transient": {
            "deleting": false
          }
        }
      }
    },
    {
      "cell_type": "code",
      "source": [
        "import mlflow\r\n",
        "\r\n",
        "modelpath = \"abfss://files@datalakeyh4u3ae.dfs.core.windows.net/model/\"\r\n",
        "mlflow.spark.save_model(model, modelpath)\r\n",
        "print(\"Model saved to \", modelpath)"
      ],
      "outputs": [
        {
          "output_type": "display_data",
          "data": {
            "application/vnd.livy.statement-meta+json": {
              "spark_pool": "sparkyh4u3ae",
              "session_id": 2,
              "statement_id": 61,
              "state": "finished",
              "livy_statement_state": "available",
              "queued_time": "2022-07-13T23:48:01.9865234Z",
              "session_start_time": null,
              "execution_start_time": "2022-07-13T23:48:02.0994408Z",
              "execution_finish_time": "2022-07-13T23:48:06.1829077Z"
            },
            "text/plain": "StatementMeta(sparkyh4u3ae, 2, 61, Finished, Available)"
          },
          "metadata": {}
        },
        {
          "output_type": "stream",
          "name": "stdout",
          "text": [
            "Model saved to  abfss://files@datalakeyh4u3ae.dfs.core.windows.net/model/\n"
          ]
        }
      ],
      "execution_count": 62,
      "metadata": {
        "jupyter": {
          "source_hidden": false,
          "outputs_hidden": false
        },
        "nteract": {
          "transient": {
            "deleting": false
          }
        }
      }
    },
    {
      "cell_type": "code",
      "source": [
        "from pyspark.sql.functions import col, pandas_udf,udf,lit\r\n",
        "import azure.synapse.ml.predict as pcontext\r\n",
        "from mlflow.utils import model_utils\r\n",
        "import azure.synapse.ml.predict.utils._logger as synapse_predict_logger"
      ],
      "outputs": [
        {
          "output_type": "display_data",
          "data": {
            "application/vnd.livy.statement-meta+json": {
              "spark_pool": "sparkyh4u3ae",
              "session_id": 2,
              "statement_id": 70,
              "state": "finished",
              "livy_statement_state": "available",
              "queued_time": "2022-07-13T23:52:34.8296793Z",
              "session_start_time": null,
              "execution_start_time": "2022-07-13T23:52:34.9306812Z",
              "execution_finish_time": "2022-07-13T23:52:35.1378509Z"
            },
            "text/plain": "StatementMeta(sparkyh4u3ae, 2, 70, Finished, Available)"
          },
          "metadata": {}
        }
      ],
      "execution_count": 71,
      "metadata": {
        "jupyter": {
          "source_hidden": false,
          "outputs_hidden": false
        },
        "nteract": {
          "transient": {
            "deleting": false
          }
        }
      }
    },
    {
      "cell_type": "code",
      "source": [
        "#Set input data path\r\n",
        "DATA_FILE = \"/data/new-flights.csv\"\r\n",
        "\r\n",
        "#Set ADLS URI, if trained model is uploaded in ADLS\r\n",
        "MODEL_URI = \"abfss://files@datalakeyh4u3ae.dfs.core.windows.net/model/\"\r\n",
        "\r\n",
        "#Define model return type\r\n",
        "RETURN_TYPES = \"int\" # for ex: int, float etc. PySpark data types are supported\r\n",
        "\r\n",
        "#Define model runtime. This supports only mlflow\r\n",
        "RUNTIME = \"mlflow\""
      ],
      "outputs": [
        {
          "output_type": "display_data",
          "data": {
            "application/vnd.livy.statement-meta+json": {
              "spark_pool": "sparkyh4u3ae",
              "session_id": 2,
              "statement_id": 71,
              "state": "finished",
              "livy_statement_state": "available",
              "queued_time": "2022-07-13T23:52:37.455329Z",
              "session_start_time": null,
              "execution_start_time": "2022-07-13T23:52:37.5531639Z",
              "execution_finish_time": "2022-07-13T23:52:37.6966913Z"
            },
            "text/plain": "StatementMeta(sparkyh4u3ae, 2, 71, Finished, Available)"
          },
          "metadata": {}
        }
      ],
      "execution_count": 72,
      "metadata": {
        "jupyter": {
          "source_hidden": false,
          "outputs_hidden": false
        },
        "nteract": {
          "transient": {
            "deleting": false
          }
        }
      }
    },
    {
      "cell_type": "code",
      "source": [
        "#Enable SynapseML predict\r\n",
        "spark.conf.set(\"spark.synapse.ml.predict.enabled\",\"true\")"
      ],
      "outputs": [
        {
          "output_type": "display_data",
          "data": {
            "application/vnd.livy.statement-meta+json": {
              "spark_pool": "sparkyh4u3ae",
              "session_id": 2,
              "statement_id": 72,
              "state": "finished",
              "livy_statement_state": "available",
              "queued_time": "2022-07-13T23:52:39.9499015Z",
              "session_start_time": null,
              "execution_start_time": "2022-07-13T23:52:40.0337496Z",
              "execution_finish_time": "2022-07-13T23:52:40.2396488Z"
            },
            "text/plain": "StatementMeta(sparkyh4u3ae, 2, 72, Finished, Available)"
          },
          "metadata": {}
        }
      ],
      "execution_count": 73,
      "metadata": {
        "jupyter": {
          "source_hidden": false,
          "outputs_hidden": false
        },
        "nteract": {
          "transient": {
            "deleting": false
          }
        }
      }
    },
    {
      "cell_type": "code",
      "source": [
        "#Read data from ADLS\r\n",
        "df = spark.read \\\r\n",
        ".format(\"csv\") \\\r\n",
        ".option(\"header\", \"true\") \\\r\n",
        ".csv(DATA_FILE,\r\n",
        "    inferSchema=True)\r\n",
        "df.createOrReplaceTempView('new_flights')"
      ],
      "outputs": [
        {
          "output_type": "display_data",
          "data": {
            "application/vnd.livy.statement-meta+json": {
              "spark_pool": "sparkyh4u3ae",
              "session_id": 2,
              "statement_id": 73,
              "state": "finished",
              "livy_statement_state": "available",
              "queued_time": "2022-07-13T23:52:42.6916251Z",
              "session_start_time": null,
              "execution_start_time": "2022-07-13T23:52:42.7774847Z",
              "execution_finish_time": "2022-07-13T23:52:44.6033374Z"
            },
            "text/plain": "StatementMeta(sparkyh4u3ae, 2, 73, Finished, Available)"
          },
          "metadata": {}
        }
      ],
      "execution_count": 74,
      "metadata": {
        "jupyter": {
          "source_hidden": false,
          "outputs_hidden": false
        },
        "nteract": {
          "transient": {
            "deleting": false
          }
        }
      }
    },
    {
      "cell_type": "code",
      "source": [
        "#Bind model within Spark session\r\n",
        "mlflow_model = pcontext.bind_model(\r\n",
        "    return_types=RETURN_TYPES, \r\n",
        "    runtime=RUNTIME, \r\n",
        "    model_alias=\"late\", #This alias will be used in PREDICT call to refer  this   model\r\n",
        "    model_uri=MODEL_URI #In case of AML, it will be AML_MODEL_URI\r\n",
        "    ).register()"
      ],
      "outputs": [
        {
          "output_type": "display_data",
          "data": {
            "application/vnd.livy.statement-meta+json": {
              "spark_pool": "sparkyh4u3ae",
              "session_id": 2,
              "statement_id": 74,
              "state": "finished",
              "livy_statement_state": "available",
              "queued_time": "2022-07-13T23:52:51.8673327Z",
              "session_start_time": null,
              "execution_start_time": "2022-07-13T23:52:51.9523368Z",
              "execution_finish_time": "2022-07-13T23:52:55.8878511Z"
            },
            "text/plain": "StatementMeta(sparkyh4u3ae, 2, 74, Finished, Available)"
          },
          "metadata": {}
        },
        {
          "output_type": "stream",
          "name": "stderr",
          "text": [
            "2022/07/13 23:52:52 INFO mlflow.spark: File '/tmp/tmpfpej3pig/sparkml' not found on DFS. Will attempt to upload the file.\n2022/07/13 23:52:54 INFO mlflow.spark: Copied SparkML model to /tmp/mlflow/ed31d972-32cd-4e1e-bff2-a4321e2118b3\n"
          ]
        }
      ],
      "execution_count": 75,
      "metadata": {
        "jupyter": {
          "source_hidden": false,
          "outputs_hidden": false
        },
        "nteract": {
          "transient": {
            "deleting": false
          }
        }
      }
    },
    {
      "cell_type": "code",
      "source": [
        "#Call PREDICT using Spark SQL API\r\n",
        "\r\n",
        "predictions = spark.sql(\r\n",
        "                \"\"\"\r\n",
        "                    SELECT predict(\"late\", DayofMonth, DayOfWeek, CarrierIdx, OriginAirportID, DestAirportID, DepDelay) AS predict \r\n",
        "                    FROM new_flights\r\n",
        "                \"\"\"\r\n",
        "            ).show()"
      ],
      "outputs": [
        {
          "output_type": "display_data",
          "data": {
            "application/vnd.livy.statement-meta+json": {
              "spark_pool": "sparkyh4u3ae",
              "session_id": 2,
              "statement_id": 80,
              "state": "finished",
              "livy_statement_state": "available",
              "queued_time": "2022-07-13T23:57:10.1501891Z",
              "session_start_time": null,
              "execution_start_time": "2022-07-13T23:57:10.2474793Z",
              "execution_finish_time": "2022-07-13T23:57:10.8581057Z"
            },
            "text/plain": "StatementMeta(sparkyh4u3ae, 2, 80, Finished, Available)"
          },
          "metadata": {}
        },
        {
          "output_type": "error",
          "ename": "AnalysisException",
          "evalue": "Undefined function: 'PREDICT_089001a35679a33ef3db0ca350db9b9a2f0136e0e327577b04b3b98127470961'. This function is neither a registered temporary function nor a permanent function registered in the database 'default'.; line 2 pos 27",
          "traceback": [
            "\u001b[0;31m---------------------------------------------------------------------------\u001b[0m",
            "\u001b[0;31mAnalysisException\u001b[0m                         Traceback (most recent call last)",
            "\u001b[0;32m/tmp/ipykernel_7068/604853309.py\u001b[0m in \u001b[0;36m<module>\u001b[0;34m\u001b[0m\n\u001b[1;32m      1\u001b[0m \u001b[0;31m#Call PREDICT using Spark SQL API\u001b[0m\u001b[0;34m\u001b[0m\u001b[0;34m\u001b[0m\u001b[0;34m\u001b[0m\u001b[0m\n\u001b[1;32m      2\u001b[0m \u001b[0;34m\u001b[0m\u001b[0m\n\u001b[0;32m----> 3\u001b[0;31m predictions = spark.sql(\n\u001b[0m\u001b[1;32m      4\u001b[0m                 \"\"\"\n\u001b[1;32m      5\u001b[0m                     \u001b[0mSELECT\u001b[0m \u001b[0mpredict\u001b[0m\u001b[0;34m(\u001b[0m\u001b[0;34m\"late\"\u001b[0m\u001b[0;34m,\u001b[0m \u001b[0mDayofMonth\u001b[0m\u001b[0;34m,\u001b[0m \u001b[0mDayOfWeek\u001b[0m\u001b[0;34m,\u001b[0m \u001b[0mCarrierIdx\u001b[0m\u001b[0;34m,\u001b[0m \u001b[0mOriginAirportID\u001b[0m\u001b[0;34m,\u001b[0m \u001b[0mDestAirportID\u001b[0m\u001b[0;34m,\u001b[0m \u001b[0mDepDelay\u001b[0m\u001b[0;34m)\u001b[0m \u001b[0mAS\u001b[0m \u001b[0mpredict\u001b[0m\u001b[0;34m\u001b[0m\u001b[0;34m\u001b[0m\u001b[0m\n",
            "\u001b[0;32m/opt/spark/python/lib/pyspark.zip/pyspark/sql/session.py\u001b[0m in \u001b[0;36msql\u001b[0;34m(self, sqlQuery)\u001b[0m\n\u001b[1;32m    721\u001b[0m         \u001b[0;34m[\u001b[0m\u001b[0mRow\u001b[0m\u001b[0;34m(\u001b[0m\u001b[0mf1\u001b[0m\u001b[0;34m=\u001b[0m\u001b[0;36m1\u001b[0m\u001b[0;34m,\u001b[0m \u001b[0mf2\u001b[0m\u001b[0;34m=\u001b[0m\u001b[0;34m'row1'\u001b[0m\u001b[0;34m)\u001b[0m\u001b[0;34m,\u001b[0m \u001b[0mRow\u001b[0m\u001b[0;34m(\u001b[0m\u001b[0mf1\u001b[0m\u001b[0;34m=\u001b[0m\u001b[0;36m2\u001b[0m\u001b[0;34m,\u001b[0m \u001b[0mf2\u001b[0m\u001b[0;34m=\u001b[0m\u001b[0;34m'row2'\u001b[0m\u001b[0;34m)\u001b[0m\u001b[0;34m,\u001b[0m \u001b[0mRow\u001b[0m\u001b[0;34m(\u001b[0m\u001b[0mf1\u001b[0m\u001b[0;34m=\u001b[0m\u001b[0;36m3\u001b[0m\u001b[0;34m,\u001b[0m \u001b[0mf2\u001b[0m\u001b[0;34m=\u001b[0m\u001b[0;34m'row3'\u001b[0m\u001b[0;34m)\u001b[0m\u001b[0;34m]\u001b[0m\u001b[0;34m\u001b[0m\u001b[0;34m\u001b[0m\u001b[0m\n\u001b[1;32m    722\u001b[0m         \"\"\"\n\u001b[0;32m--> 723\u001b[0;31m         \u001b[0;32mreturn\u001b[0m \u001b[0mDataFrame\u001b[0m\u001b[0;34m(\u001b[0m\u001b[0mself\u001b[0m\u001b[0;34m.\u001b[0m\u001b[0m_jsparkSession\u001b[0m\u001b[0;34m.\u001b[0m\u001b[0msql\u001b[0m\u001b[0;34m(\u001b[0m\u001b[0msqlQuery\u001b[0m\u001b[0;34m)\u001b[0m\u001b[0;34m,\u001b[0m \u001b[0mself\u001b[0m\u001b[0;34m.\u001b[0m\u001b[0m_wrapped\u001b[0m\u001b[0;34m)\u001b[0m\u001b[0;34m\u001b[0m\u001b[0;34m\u001b[0m\u001b[0m\n\u001b[0m\u001b[1;32m    724\u001b[0m \u001b[0;34m\u001b[0m\u001b[0m\n\u001b[1;32m    725\u001b[0m     \u001b[0;32mdef\u001b[0m \u001b[0mtable\u001b[0m\u001b[0;34m(\u001b[0m\u001b[0mself\u001b[0m\u001b[0;34m,\u001b[0m \u001b[0mtableName\u001b[0m\u001b[0;34m)\u001b[0m\u001b[0;34m:\u001b[0m\u001b[0;34m\u001b[0m\u001b[0;34m\u001b[0m\u001b[0m\n",
            "\u001b[0;32m~/cluster-env/env/lib/python3.8/site-packages/py4j/java_gateway.py\u001b[0m in \u001b[0;36m__call__\u001b[0;34m(self, *args)\u001b[0m\n\u001b[1;32m   1302\u001b[0m \u001b[0;34m\u001b[0m\u001b[0m\n\u001b[1;32m   1303\u001b[0m         \u001b[0manswer\u001b[0m \u001b[0;34m=\u001b[0m \u001b[0mself\u001b[0m\u001b[0;34m.\u001b[0m\u001b[0mgateway_client\u001b[0m\u001b[0;34m.\u001b[0m\u001b[0msend_command\u001b[0m\u001b[0;34m(\u001b[0m\u001b[0mcommand\u001b[0m\u001b[0;34m)\u001b[0m\u001b[0;34m\u001b[0m\u001b[0;34m\u001b[0m\u001b[0m\n\u001b[0;32m-> 1304\u001b[0;31m         return_value = get_return_value(\n\u001b[0m\u001b[1;32m   1305\u001b[0m             answer, self.gateway_client, self.target_id, self.name)\n\u001b[1;32m   1306\u001b[0m \u001b[0;34m\u001b[0m\u001b[0m\n",
            "\u001b[0;32m/opt/spark/python/lib/pyspark.zip/pyspark/sql/utils.py\u001b[0m in \u001b[0;36mdeco\u001b[0;34m(*a, **kw)\u001b[0m\n\u001b[1;32m    115\u001b[0m                 \u001b[0;31m# Hide where the exception came from that shows a non-Pythonic\u001b[0m\u001b[0;34m\u001b[0m\u001b[0;34m\u001b[0m\u001b[0;34m\u001b[0m\u001b[0m\n\u001b[1;32m    116\u001b[0m                 \u001b[0;31m# JVM exception message.\u001b[0m\u001b[0;34m\u001b[0m\u001b[0;34m\u001b[0m\u001b[0;34m\u001b[0m\u001b[0m\n\u001b[0;32m--> 117\u001b[0;31m                 \u001b[0;32mraise\u001b[0m \u001b[0mconverted\u001b[0m \u001b[0;32mfrom\u001b[0m \u001b[0;32mNone\u001b[0m\u001b[0;34m\u001b[0m\u001b[0;34m\u001b[0m\u001b[0m\n\u001b[0m\u001b[1;32m    118\u001b[0m             \u001b[0;32melse\u001b[0m\u001b[0;34m:\u001b[0m\u001b[0;34m\u001b[0m\u001b[0;34m\u001b[0m\u001b[0m\n\u001b[1;32m    119\u001b[0m                 \u001b[0;32mraise\u001b[0m\u001b[0;34m\u001b[0m\u001b[0;34m\u001b[0m\u001b[0m\n",
            "\u001b[0;31mAnalysisException\u001b[0m: Undefined function: 'PREDICT_089001a35679a33ef3db0ca350db9b9a2f0136e0e327577b04b3b98127470961'. This function is neither a registered temporary function nor a permanent function registered in the database 'default'.; line 2 pos 27"
          ]
        }
      ],
      "execution_count": 81,
      "metadata": {
        "jupyter": {
          "source_hidden": false,
          "outputs_hidden": false
        },
        "nteract": {
          "transient": {
            "deleting": false
          }
        }
      }
    },
    {
      "cell_type": "code",
      "source": [
        "#Call PREDICT using user defined function (UDF)\r\n",
        "\r\n",
        "df = df[\"DayofMonth\", \"DayOfWeek\", \"Carrier\", \"OriginAirportID\", \"DestAirportID\", \"DepDelay\"] # for ex. df[\"empid\",\"empname\"]\r\n",
        "\r\n",
        "df.withColumn(\"PREDICT\",mlflow_model.udf(lit(\"late\"),*df.columns)).show()"
      ],
      "outputs": [
        {
          "output_type": "display_data",
          "data": {
            "application/vnd.livy.statement-meta+json": {
              "spark_pool": "sparkyh4u3ae",
              "session_id": 2,
              "statement_id": 77,
              "state": "finished",
              "livy_statement_state": "available",
              "queued_time": "2022-07-13T23:54:32.9155272Z",
              "session_start_time": null,
              "execution_start_time": "2022-07-13T23:54:33.0077908Z",
              "execution_finish_time": "2022-07-13T23:54:33.1661454Z"
            },
            "text/plain": "StatementMeta(sparkyh4u3ae, 2, 77, Finished, Available)"
          },
          "metadata": {}
        },
        {
          "output_type": "error",
          "ename": "AttributeError",
          "evalue": "'PyFuncModel' object has no attribute 'udf'",
          "traceback": [
            "\u001b[0;31m---------------------------------------------------------------------------\u001b[0m",
            "\u001b[0;31mAttributeError\u001b[0m                            Traceback (most recent call last)",
            "\u001b[0;32m/tmp/ipykernel_7068/113003722.py\u001b[0m in \u001b[0;36m<module>\u001b[0;34m\u001b[0m\n\u001b[1;32m      3\u001b[0m \u001b[0mdf\u001b[0m \u001b[0;34m=\u001b[0m \u001b[0mdf\u001b[0m\u001b[0;34m[\u001b[0m\u001b[0;34m\"DayofMonth\"\u001b[0m\u001b[0;34m,\u001b[0m \u001b[0;34m\"DayOfWeek\"\u001b[0m\u001b[0;34m,\u001b[0m \u001b[0;34m\"Carrier\"\u001b[0m\u001b[0;34m,\u001b[0m \u001b[0;34m\"OriginAirportID\"\u001b[0m\u001b[0;34m,\u001b[0m \u001b[0;34m\"DestAirportID\"\u001b[0m\u001b[0;34m,\u001b[0m \u001b[0;34m\"DepDelay\"\u001b[0m\u001b[0;34m]\u001b[0m \u001b[0;31m# for ex. df[\"empid\",\"empname\"]\u001b[0m\u001b[0;34m\u001b[0m\u001b[0;34m\u001b[0m\u001b[0m\n\u001b[1;32m      4\u001b[0m \u001b[0;34m\u001b[0m\u001b[0m\n\u001b[0;32m----> 5\u001b[0;31m \u001b[0mdf\u001b[0m\u001b[0;34m.\u001b[0m\u001b[0mwithColumn\u001b[0m\u001b[0;34m(\u001b[0m\u001b[0;34m\"PREDICT\"\u001b[0m\u001b[0;34m,\u001b[0m\u001b[0mmlflow_model\u001b[0m\u001b[0;34m.\u001b[0m\u001b[0mudf\u001b[0m\u001b[0;34m(\u001b[0m\u001b[0mlit\u001b[0m\u001b[0;34m(\u001b[0m\u001b[0;34m\"late\"\u001b[0m\u001b[0;34m)\u001b[0m\u001b[0;34m,\u001b[0m\u001b[0;34m*\u001b[0m\u001b[0mdf\u001b[0m\u001b[0;34m.\u001b[0m\u001b[0mcolumns\u001b[0m\u001b[0;34m)\u001b[0m\u001b[0;34m)\u001b[0m\u001b[0;34m.\u001b[0m\u001b[0mshow\u001b[0m\u001b[0;34m(\u001b[0m\u001b[0;34m)\u001b[0m\u001b[0;34m\u001b[0m\u001b[0;34m\u001b[0m\u001b[0m\n\u001b[0m",
            "\u001b[0;31mAttributeError\u001b[0m: 'PyFuncModel' object has no attribute 'udf'"
          ]
        }
      ],
      "execution_count": 78,
      "metadata": {
        "jupyter": {
          "source_hidden": false,
          "outputs_hidden": false
        },
        "nteract": {
          "transient": {
            "deleting": false
          }
        }
      }
    },
    {
      "cell_type": "code",
      "source": [
        "#Call PREDICT using Transformer API\r\n",
        "\r\n",
        "columns = [\"DayofMonth\", \"DayOfWeek\", \"Carrier\", \"OriginAirportID\", \"DestAirportID\", \"DepDelay\"] # for ex. df[\"empid\",\"empname\"]\r\n",
        "\r\n",
        "tranformer = mlflow_model.create_transformer().setInputCols(columns).setOutputCol(\"PREDICT\")\r\n",
        "\r\n",
        "tranformer.transform(df).show()"
      ],
      "outputs": [
        {
          "output_type": "display_data",
          "data": {
            "application/vnd.livy.statement-meta+json": {
              "spark_pool": "sparkyh4u3ae",
              "session_id": 2,
              "statement_id": 78,
              "state": "finished",
              "livy_statement_state": "available",
              "queued_time": "2022-07-13T23:54:36.5592188Z",
              "session_start_time": null,
              "execution_start_time": "2022-07-13T23:54:36.6528811Z",
              "execution_finish_time": "2022-07-13T23:54:36.80945Z"
            },
            "text/plain": "StatementMeta(sparkyh4u3ae, 2, 78, Finished, Available)"
          },
          "metadata": {}
        },
        {
          "output_type": "error",
          "ename": "AttributeError",
          "evalue": "'PyFuncModel' object has no attribute 'create_transformer'",
          "traceback": [
            "\u001b[0;31m---------------------------------------------------------------------------\u001b[0m",
            "\u001b[0;31mAttributeError\u001b[0m                            Traceback (most recent call last)",
            "\u001b[0;32m/tmp/ipykernel_7068/1592351983.py\u001b[0m in \u001b[0;36m<module>\u001b[0;34m\u001b[0m\n\u001b[1;32m      3\u001b[0m \u001b[0mcolumns\u001b[0m \u001b[0;34m=\u001b[0m \u001b[0;34m[\u001b[0m\u001b[0;34m\"DayofMonth\"\u001b[0m\u001b[0;34m,\u001b[0m \u001b[0;34m\"DayOfWeek\"\u001b[0m\u001b[0;34m,\u001b[0m \u001b[0;34m\"Carrier\"\u001b[0m\u001b[0;34m,\u001b[0m \u001b[0;34m\"OriginAirportID\"\u001b[0m\u001b[0;34m,\u001b[0m \u001b[0;34m\"DestAirportID\"\u001b[0m\u001b[0;34m,\u001b[0m \u001b[0;34m\"DepDelay\"\u001b[0m\u001b[0;34m]\u001b[0m \u001b[0;31m# for ex. df[\"empid\",\"empname\"]\u001b[0m\u001b[0;34m\u001b[0m\u001b[0;34m\u001b[0m\u001b[0m\n\u001b[1;32m      4\u001b[0m \u001b[0;34m\u001b[0m\u001b[0m\n\u001b[0;32m----> 5\u001b[0;31m \u001b[0mtranformer\u001b[0m \u001b[0;34m=\u001b[0m \u001b[0mmlflow_model\u001b[0m\u001b[0;34m.\u001b[0m\u001b[0mcreate_transformer\u001b[0m\u001b[0;34m(\u001b[0m\u001b[0;34m)\u001b[0m\u001b[0;34m.\u001b[0m\u001b[0msetInputCols\u001b[0m\u001b[0;34m(\u001b[0m\u001b[0mcolumns\u001b[0m\u001b[0;34m)\u001b[0m\u001b[0;34m.\u001b[0m\u001b[0msetOutputCol\u001b[0m\u001b[0;34m(\u001b[0m\u001b[0;34m\"PREDICT\"\u001b[0m\u001b[0;34m)\u001b[0m\u001b[0;34m\u001b[0m\u001b[0;34m\u001b[0m\u001b[0m\n\u001b[0m\u001b[1;32m      6\u001b[0m \u001b[0;34m\u001b[0m\u001b[0m\n\u001b[1;32m      7\u001b[0m \u001b[0mtranformer\u001b[0m\u001b[0;34m.\u001b[0m\u001b[0mtransform\u001b[0m\u001b[0;34m(\u001b[0m\u001b[0mdf\u001b[0m\u001b[0;34m)\u001b[0m\u001b[0;34m.\u001b[0m\u001b[0mshow\u001b[0m\u001b[0;34m(\u001b[0m\u001b[0;34m)\u001b[0m\u001b[0;34m\u001b[0m\u001b[0;34m\u001b[0m\u001b[0m\n",
            "\u001b[0;31mAttributeError\u001b[0m: 'PyFuncModel' object has no attribute 'create_transformer'"
          ]
        }
      ],
      "execution_count": 79,
      "metadata": {
        "jupyter": {
          "source_hidden": false,
          "outputs_hidden": false
        },
        "nteract": {
          "transient": {
            "deleting": false
          }
        }
      }
    },
    {
      "cell_type": "code",
      "source": [
        "type(mlflow_model)"
      ],
      "outputs": [
        {
          "output_type": "display_data",
          "data": {
            "application/vnd.livy.statement-meta+json": {
              "spark_pool": null,
              "session_id": null,
              "statement_id": null,
              "state": "session_error",
              "livy_statement_state": null,
              "queued_time": "2022-07-14T00:07:48.1109116Z",
              "session_start_time": "2022-07-14T00:07:48.1468135Z",
              "execution_start_time": null,
              "execution_finish_time": null
            },
            "text/plain": "StatementMeta(, , , SessionError, )"
          },
          "metadata": {}
        },
        {
          "output_type": "error",
          "ename": "AVAILABLE_COMPUTE_CAPACITY_EXCEEDED",
          "evalue": "Livy session has failed. Session state: Error. Error code: AVAILABLE_COMPUTE_CAPACITY_EXCEEDED. Your job requested 12 vcores. However, the pool only has 4 vcores available out of quota of 16 vcores. Try ending the running job(s) in the pool, reducing the numbers of vcores requested, increasing the pool maximum size or using another pool. Source: User.",
          "traceback": [
            "AVAILABLE_COMPUTE_CAPACITY_EXCEEDED: Livy session has failed. Session state: Error. Error code: AVAILABLE_COMPUTE_CAPACITY_EXCEEDED. Your job requested 12 vcores. However, the pool only has 4 vcores available out of quota of 16 vcores. Try ending the running job(s) in the pool, reducing the numbers of vcores requested, increasing the pool maximum size or using another pool. Source: User."
          ]
        }
      ],
      "execution_count": 1,
      "metadata": {
        "jupyter": {
          "source_hidden": false,
          "outputs_hidden": false
        },
        "nteract": {
          "transient": {
            "deleting": false
          }
        }
      }
    }
  ],
  "metadata": {
    "kernelspec": {
      "name": "synapse_pyspark",
      "language": "Python",
      "display_name": "Synapse PySpark"
    },
    "language_info": {
      "name": "python"
    },
    "kernel_info": {
      "name": "synapse_pyspark"
    },
    "description": null,
    "save_output": true,
    "synapse_widget": {
      "version": "0.1",
      "state": {
        "d56c2b57-53c8-41a1-98b7-d26e52d48c31": {
          "type": "Synapse.DataFrame",
          "sync_state": {
            "table": {
              "rows": [
                {
                  "0": "21",
                  "1": "2",
                  "2": "WN",
                  "3": "14107",
                  "4": "14570",
                  "5": "30",
                  "6": "28",
                  "7": "1"
                },
                {
                  "0": "4",
                  "1": "4",
                  "2": "WN",
                  "3": "12191",
                  "4": "10423",
                  "5": "-6",
                  "6": "-12",
                  "7": "0"
                },
                {
                  "0": "16",
                  "1": "3",
                  "2": "WN",
                  "3": "14307",
                  "4": "10821",
                  "5": "15",
                  "6": "7",
                  "7": "0"
                },
                {
                  "0": "13",
                  "1": "6",
                  "2": "AA",
                  "3": "13303",
                  "4": "11298",
                  "5": "39",
                  "6": "45",
                  "7": "1"
                },
                {
                  "0": "5",
                  "1": "3",
                  "2": "9E",
                  "3": "11193",
                  "4": "13198",
                  "5": "79",
                  "6": "76",
                  "7": "1"
                },
                {
                  "0": "23",
                  "1": "7",
                  "2": "YV",
                  "3": "12339",
                  "4": "13930",
                  "5": "-12",
                  "6": "44",
                  "7": "1"
                },
                {
                  "0": "7",
                  "1": "7",
                  "2": "UA",
                  "3": "12889",
                  "4": "14771",
                  "5": "-10",
                  "6": "45",
                  "7": "1"
                },
                {
                  "0": "1",
                  "1": "6",
                  "2": "OO",
                  "3": "13891",
                  "4": "14869",
                  "5": "89",
                  "6": "81",
                  "7": "1"
                },
                {
                  "0": "10",
                  "1": "5",
                  "2": "DL",
                  "3": "10397",
                  "4": "14683",
                  "5": "51",
                  "6": "53",
                  "7": "1"
                },
                {
                  "0": "3",
                  "1": "3",
                  "2": "FL",
                  "3": "10397",
                  "4": "15304",
                  "5": "38",
                  "6": "34",
                  "7": "1"
                },
                {
                  "0": "21",
                  "1": "1",
                  "2": "WN",
                  "3": "13198",
                  "4": "12339",
                  "5": "1",
                  "6": "-7",
                  "7": "0"
                },
                {
                  "0": "21",
                  "1": "7",
                  "2": "YV",
                  "3": "10693",
                  "4": "11057",
                  "5": "92",
                  "6": "88",
                  "7": "1"
                },
                {
                  "0": "31",
                  "1": "5",
                  "2": "DL",
                  "3": "10397",
                  "4": "10721",
                  "5": "-2",
                  "6": "2",
                  "7": "0"
                },
                {
                  "0": "9",
                  "1": "5",
                  "2": "WN",
                  "3": "11292",
                  "4": "14683",
                  "5": "59",
                  "6": "57",
                  "7": "1"
                },
                {
                  "0": "29",
                  "1": "1",
                  "2": "AA",
                  "3": "13198",
                  "4": "13930",
                  "5": "-1",
                  "6": "-23",
                  "7": "0"
                },
                {
                  "0": "1",
                  "1": "1",
                  "2": "EV",
                  "3": "11618",
                  "4": "13931",
                  "5": "58",
                  "6": "70",
                  "7": "1"
                },
                {
                  "0": "16",
                  "1": "7",
                  "2": "WN",
                  "3": "10821",
                  "4": "14730",
                  "5": "15",
                  "6": "18",
                  "7": "0"
                },
                {
                  "0": "24",
                  "1": "6",
                  "2": "DL",
                  "3": "14747",
                  "4": "10299",
                  "5": "7",
                  "6": "0",
                  "7": "0"
                },
                {
                  "0": "15",
                  "1": "1",
                  "2": "WN",
                  "3": "12892",
                  "4": "13342",
                  "5": "27",
                  "6": "36",
                  "7": "1"
                },
                {
                  "0": "13",
                  "1": "1",
                  "2": "VX",
                  "3": "11697",
                  "4": "14771",
                  "5": "-11",
                  "6": "-38",
                  "7": "0"
                }
              ],
              "schema": [
                {
                  "key": "0",
                  "name": "DayofMonth",
                  "type": "int"
                },
                {
                  "key": "1",
                  "name": "DayOfWeek",
                  "type": "int"
                },
                {
                  "key": "2",
                  "name": "Carrier",
                  "type": "string"
                },
                {
                  "key": "3",
                  "name": "OriginAirportID",
                  "type": "int"
                },
                {
                  "key": "4",
                  "name": "DestAirportID",
                  "type": "int"
                },
                {
                  "key": "5",
                  "name": "DepDelay",
                  "type": "int"
                },
                {
                  "key": "6",
                  "name": "ArrDelay",
                  "type": "int"
                },
                {
                  "key": "7",
                  "name": "Late",
                  "type": "int"
                }
              ],
              "truncated": false
            },
            "isSummary": false,
            "language": "scala"
          },
          "persist_state": {
            "view": {
              "type": "details",
              "tableOptions": {},
              "chartOptions": {
                "chartType": "bar",
                "aggregationType": "sum",
                "categoryFieldKeys": [
                  "1"
                ],
                "seriesFieldKeys": [
                  "0"
                ],
                "isStacked": false
              }
            }
          }
        },
        "73c7b169-7895-41d1-88f5-d555b03ba6ff": {
          "type": "Synapse.DataFrame",
          "sync_state": {
            "table": {
              "rows": [
                {
                  "0": "TP",
                  "1": "86713.0"
                },
                {
                  "0": "FP",
                  "1": "5116.0"
                },
                {
                  "0": "TN",
                  "1": "84316.0"
                },
                {
                  "0": "FN",
                  "1": "15573.0"
                },
                {
                  "0": "Precision",
                  "1": "0.9442877522351327"
                },
                {
                  "0": "Recall",
                  "1": "0.8477504252781417"
                }
              ],
              "schema": [
                {
                  "key": "0",
                  "name": "metric",
                  "type": "string"
                },
                {
                  "key": "1",
                  "name": "value",
                  "type": "double"
                }
              ],
              "truncated": false
            },
            "isSummary": false,
            "language": "scala"
          },
          "persist_state": {
            "view": {
              "type": "details",
              "tableOptions": {},
              "chartOptions": {
                "chartType": "bar",
                "aggregationType": "sum",
                "categoryFieldKeys": [
                  "0"
                ],
                "seriesFieldKeys": [
                  "1"
                ],
                "isStacked": false
              }
            }
          }
        },
        "2db6a258-78c5-4e1b-9805-07d78c93e92d": {
          "type": "Synapse.DataFrame",
          "sync_state": {
            "table": {
              "rows": [
                {
                  "0": {
                    "type": 1,
                    "values": [
                      1,
                      1,
                      10,
                      10821,
                      13487,
                      67
                    ]
                  },
                  "1": {
                    "type": 1,
                    "values": [
                      0.28560856270137647,
                      0.7143914372986235
                    ]
                  },
                  "2": "1",
                  "3": "1"
                },
                {
                  "0": {
                    "type": 1,
                    "values": [
                      1,
                      1,
                      10,
                      11193,
                      11057,
                      -7
                    ]
                  },
                  "1": {
                    "type": 1,
                    "values": [
                      0.6005949232742338,
                      0.3994050767257662
                    ]
                  },
                  "2": "0",
                  "3": "0"
                },
                {
                  "0": {
                    "type": 1,
                    "values": [
                      1,
                      1,
                      10,
                      11193,
                      13930,
                      76
                    ]
                  },
                  "1": {
                    "type": 1,
                    "values": [
                      0.2555217560691896,
                      0.7444782439308104
                    ]
                  },
                  "2": "1",
                  "3": "1"
                },
                {
                  "0": {
                    "type": 1,
                    "values": [
                      1,
                      1,
                      10,
                      11433,
                      12451,
                      20
                    ]
                  },
                  "1": {
                    "type": 1,
                    "values": [
                      0.48437033532666907,
                      0.5156296646733309
                    ]
                  },
                  "2": "1",
                  "3": "1"
                },
                {
                  "0": {
                    "type": 1,
                    "values": [
                      1,
                      1,
                      10,
                      11433,
                      14524,
                      52
                    ]
                  },
                  "1": {
                    "type": 1,
                    "values": [
                      0.35005884998417014,
                      0.6499411500158299
                    ]
                  },
                  "2": "1",
                  "3": "1"
                },
                {
                  "0": {
                    "type": 1,
                    "values": [
                      1,
                      1,
                      10,
                      14100,
                      11433,
                      -4
                    ]
                  },
                  "1": {
                    "type": 1,
                    "values": [
                      0.5995762132891596,
                      0.40042378671084045
                    ]
                  },
                  "2": "0",
                  "3": "0"
                },
                {
                  "0": {
                    "type": 1,
                    "values": [
                      1,
                      1,
                      10,
                      14307,
                      11433,
                      29
                    ]
                  },
                  "1": {
                    "type": 1,
                    "values": [
                      0.45110496397540467,
                      0.5488950360245953
                    ]
                  },
                  "2": "1",
                  "3": "1"
                },
                {
                  "0": {
                    "type": 1,
                    "values": [
                      1,
                      1,
                      2,
                      10821,
                      11298,
                      28
                    ]
                  },
                  "1": {
                    "type": 1,
                    "values": [
                      0.44566112660696633,
                      0.5543388733930337
                    ]
                  },
                  "2": "1",
                  "3": "1"
                },
                {
                  "0": {
                    "type": 1,
                    "values": [
                      1,
                      1,
                      2,
                      11298,
                      10140,
                      48
                    ]
                  },
                  "1": {
                    "type": 1,
                    "values": [
                      0.35610833246631163,
                      0.6438916675336883
                    ]
                  },
                  "2": "1",
                  "3": "1"
                },
                {
                  "0": {
                    "type": 1,
                    "values": [
                      1,
                      1,
                      2,
                      11298,
                      10397,
                      50
                    ]
                  },
                  "1": {
                    "type": 1,
                    "values": [
                      0.3485767528495547,
                      0.6514232471504453
                    ]
                  },
                  "2": "1",
                  "3": "1"
                },
                {
                  "0": {
                    "type": 1,
                    "values": [
                      1,
                      1,
                      2,
                      11298,
                      10721,
                      148
                    ]
                  },
                  "1": {
                    "type": 1,
                    "values": [
                      0.08226456596671174,
                      0.9177354340332883
                    ]
                  },
                  "2": "1",
                  "3": "1"
                },
                {
                  "0": {
                    "type": 1,
                    "values": [
                      1,
                      1,
                      2,
                      11298,
                      11618,
                      31
                    ]
                  },
                  "1": {
                    "type": 1,
                    "values": [
                      0.43507330722207566,
                      0.5649266927779244
                    ]
                  },
                  "2": "1",
                  "3": "1"
                },
                {
                  "0": {
                    "type": 1,
                    "values": [
                      1,
                      1,
                      2,
                      11298,
                      12953,
                      55
                    ]
                  },
                  "1": {
                    "type": 1,
                    "values": [
                      0.33594968165393635,
                      0.6640503183460637
                    ]
                  },
                  "2": "1",
                  "3": "1"
                },
                {
                  "0": {
                    "type": 1,
                    "values": [
                      1,
                      1,
                      2,
                      11298,
                      14027,
                      78
                    ]
                  },
                  "1": {
                    "type": 1,
                    "values": [
                      0.25219527815164994,
                      0.7478047218483501
                    ]
                  },
                  "2": "1",
                  "3": "1"
                },
                {
                  "0": {
                    "type": 1,
                    "values": [
                      1,
                      1,
                      2,
                      11298,
                      14100,
                      -6
                    ]
                  },
                  "1": {
                    "type": 1,
                    "values": [
                      0.6104807026223449,
                      0.3895192973776551
                    ]
                  },
                  "2": "0",
                  "3": "1"
                },
                {
                  "0": {
                    "type": 1,
                    "values": [
                      1,
                      1,
                      2,
                      11298,
                      14100,
                      117
                    ]
                  },
                  "1": {
                    "type": 1,
                    "values": [
                      0.14200557901013225,
                      0.8579944209898678
                    ]
                  },
                  "2": "1",
                  "3": "1"
                },
                {
                  "0": {
                    "type": 1,
                    "values": [
                      1,
                      1,
                      2,
                      11298,
                      14492,
                      58
                    ]
                  },
                  "1": {
                    "type": 1,
                    "values": [
                      0.3284995495842303,
                      0.6715004504157698
                    ]
                  },
                  "2": "1",
                  "3": "1"
                },
                {
                  "0": {
                    "type": 1,
                    "values": [
                      1,
                      1,
                      2,
                      11298,
                      15016,
                      9
                    ]
                  },
                  "1": {
                    "type": 1,
                    "values": [
                      0.5468188870606583,
                      0.4531811129393417
                    ]
                  },
                  "2": "0",
                  "3": "0"
                },
                {
                  "0": {
                    "type": 1,
                    "values": [
                      1,
                      1,
                      2,
                      11298,
                      15376,
                      -3
                    ]
                  },
                  "1": {
                    "type": 1,
                    "values": [
                      0.6015959836738682,
                      0.39840401632613176
                    ]
                  },
                  "2": "0",
                  "3": "0"
                },
                {
                  "0": {
                    "type": 1,
                    "values": [
                      1,
                      1,
                      2,
                      11433,
                      11298,
                      -6
                    ]
                  },
                  "1": {
                    "type": 1,
                    "values": [
                      0.6017484495952592,
                      0.3982515504047408
                    ]
                  },
                  "2": "0",
                  "3": "0"
                },
                {
                  "0": {
                    "type": 1,
                    "values": [
                      1,
                      1,
                      2,
                      12173,
                      12892,
                      65
                    ]
                  },
                  "1": {
                    "type": 1,
                    "values": [
                      0.2991508909780906,
                      0.7008491090219093
                    ]
                  },
                  "2": "1",
                  "3": "1"
                },
                {
                  "0": {
                    "type": 1,
                    "values": [
                      1,
                      1,
                      2,
                      12266,
                      13303,
                      22
                    ]
                  },
                  "1": {
                    "type": 1,
                    "values": [
                      0.48542686296099136,
                      0.5145731370390086
                    ]
                  },
                  "2": "1",
                  "3": "1"
                },
                {
                  "0": {
                    "type": 1,
                    "values": [
                      1,
                      1,
                      2,
                      12478,
                      10721,
                      85
                    ]
                  },
                  "1": {
                    "type": 1,
                    "values": [
                      0.22407161163416467,
                      0.7759283883658353
                    ]
                  },
                  "2": "1",
                  "3": "1"
                },
                {
                  "0": {
                    "type": 1,
                    "values": [
                      1,
                      1,
                      2,
                      12478,
                      12892,
                      6
                    ]
                  },
                  "1": {
                    "type": 1,
                    "values": [
                      0.5576815868852422,
                      0.44231841311475784
                    ]
                  },
                  "2": "0",
                  "3": "1"
                },
                {
                  "0": {
                    "type": 1,
                    "values": [
                      1,
                      1,
                      2,
                      12478,
                      12892,
                      53
                    ]
                  },
                  "1": {
                    "type": 1,
                    "values": [
                      0.3481324527005257,
                      0.6518675472994744
                    ]
                  },
                  "2": "1",
                  "3": "1"
                },
                {
                  "0": {
                    "type": 1,
                    "values": [
                      1,
                      1,
                      2,
                      12478,
                      13303,
                      0
                    ]
                  },
                  "1": {
                    "type": 1,
                    "values": [
                      0.5859127763327272,
                      0.4140872236672728
                    ]
                  },
                  "2": "0",
                  "3": "0"
                },
                {
                  "0": {
                    "type": 1,
                    "values": [
                      1,
                      1,
                      2,
                      12478,
                      14771,
                      -6
                    ]
                  },
                  "1": {
                    "type": 1,
                    "values": [
                      0.6170448611488561,
                      0.38295513885114385
                    ]
                  },
                  "2": "0",
                  "3": "1"
                },
                {
                  "0": {
                    "type": 1,
                    "values": [
                      1,
                      1,
                      2,
                      12892,
                      14771,
                      -4
                    ]
                  },
                  "1": {
                    "type": 1,
                    "values": [
                      0.6099102229454799,
                      0.3900897770545201
                    ]
                  },
                  "2": "0",
                  "3": "0"
                },
                {
                  "0": {
                    "type": 1,
                    "values": [
                      1,
                      1,
                      2,
                      12953,
                      13303,
                      66
                    ]
                  },
                  "1": {
                    "type": 1,
                    "values": [
                      0.2990623623529558,
                      0.7009376376470442
                    ]
                  },
                  "2": "1",
                  "3": "1"
                },
                {
                  "0": {
                    "type": 1,
                    "values": [
                      1,
                      1,
                      2,
                      12953,
                      15016,
                      56
                    ]
                  },
                  "1": {
                    "type": 1,
                    "values": [
                      0.34403888050059417,
                      0.6559611194994058
                    ]
                  },
                  "2": "1",
                  "3": "1"
                },
                {
                  "0": {
                    "type": 1,
                    "values": [
                      1,
                      1,
                      2,
                      13204,
                      13303,
                      9
                    ]
                  },
                  "1": {
                    "type": 1,
                    "values": [
                      0.5483332832465072,
                      0.4516667167534928
                    ]
                  },
                  "2": "0",
                  "3": "1"
                },
                {
                  "0": {
                    "type": 1,
                    "values": [
                      1,
                      1,
                      2,
                      13303,
                      10821,
                      -3
                    ]
                  },
                  "1": {
                    "type": 1,
                    "values": [
                      0.5940034308301573,
                      0.4059965691698427
                    ]
                  },
                  "2": "0",
                  "3": "0"
                },
                {
                  "0": {
                    "type": 1,
                    "values": [
                      1,
                      1,
                      2,
                      13303,
                      11278,
                      68
                    ]
                  },
                  "1": {
                    "type": 1,
                    "values": [
                      0.28683343546086154,
                      0.7131665645391385
                    ]
                  },
                  "2": "1",
                  "3": "1"
                },
                {
                  "0": {
                    "type": 1,
                    "values": [
                      1,
                      1,
                      2,
                      13303,
                      12266,
                      -2
                    ]
                  },
                  "1": {
                    "type": 1,
                    "values": [
                      0.5944069305289517,
                      0.40559306947104834
                    ]
                  },
                  "2": "0",
                  "3": "0"
                },
                {
                  "0": {
                    "type": 1,
                    "values": [
                      1,
                      1,
                      2,
                      13303,
                      12266,
                      51
                    ]
                  },
                  "1": {
                    "type": 1,
                    "values": [
                      0.3574464904088929,
                      0.642553509591107
                    ]
                  },
                  "2": "1",
                  "3": "1"
                },
                {
                  "0": {
                    "type": 1,
                    "values": [
                      1,
                      1,
                      2,
                      13303,
                      12892,
                      134
                    ]
                  },
                  "1": {
                    "type": 1,
                    "values": [
                      0.10960246124580901,
                      0.890397538754191
                    ]
                  },
                  "2": "1",
                  "3": "1"
                },
                {
                  "0": {
                    "type": 1,
                    "values": [
                      1,
                      1,
                      2,
                      13303,
                      12953,
                      36
                    ]
                  },
                  "1": {
                    "type": 1,
                    "values": [
                      0.4248669932479984,
                      0.5751330067520015
                    ]
                  },
                  "2": "1",
                  "3": "1"
                },
                {
                  "0": {
                    "type": 1,
                    "values": [
                      1,
                      1,
                      2,
                      13303,
                      13204,
                      28
                    ]
                  },
                  "1": {
                    "type": 1,
                    "values": [
                      0.461788611175393,
                      0.538211388824607
                    ]
                  },
                  "2": "1",
                  "3": "1"
                },
                {
                  "0": {
                    "type": 1,
                    "values": [
                      1,
                      1,
                      2,
                      13303,
                      14100,
                      80
                    ]
                  },
                  "1": {
                    "type": 1,
                    "values": [
                      0.25139711471449666,
                      0.7486028852855033
                    ]
                  },
                  "2": "1",
                  "3": "1"
                },
                {
                  "0": {
                    "type": 1,
                    "values": [
                      1,
                      1,
                      2,
                      13303,
                      14492,
                      45
                    ]
                  },
                  "1": {
                    "type": 1,
                    "values": [
                      0.39029567444507174,
                      0.6097043255549283
                    ]
                  },
                  "2": "1",
                  "3": "1"
                },
                {
                  "0": {
                    "type": 1,
                    "values": [
                      1,
                      1,
                      2,
                      13303,
                      14747,
                      33
                    ]
                  },
                  "1": {
                    "type": 1,
                    "values": [
                      0.44442420596299714,
                      0.5555757940370029
                    ]
                  },
                  "2": "1",
                  "3": "1"
                },
                {
                  "0": {
                    "type": 1,
                    "values": [
                      1,
                      1,
                      2,
                      13495,
                      13303,
                      2
                    ]
                  },
                  "1": {
                    "type": 1,
                    "values": [
                      0.58088842168681,
                      0.41911157831319
                    ]
                  },
                  "2": "0",
                  "3": "0"
                },
                {
                  "0": {
                    "type": 1,
                    "values": [
                      1,
                      1,
                      2,
                      13930,
                      11292,
                      49
                    ]
                  },
                  "1": {
                    "type": 1,
                    "values": [
                      0.3650372295429395,
                      0.6349627704570605
                    ]
                  },
                  "2": "1",
                  "3": "1"
                },
                {
                  "0": {
                    "type": 1,
                    "values": [
                      1,
                      1,
                      2,
                      13930,
                      12953,
                      6
                    ]
                  },
                  "1": {
                    "type": 1,
                    "values": [
                      0.5634742482868443,
                      0.43652575171315566
                    ]
                  },
                  "2": "0",
                  "3": "0"
                },
                {
                  "0": {
                    "type": 1,
                    "values": [
                      1,
                      1,
                      2,
                      13930,
                      12953,
                      61
                    ]
                  },
                  "1": {
                    "type": 1,
                    "values": [
                      0.3208304868424885,
                      0.6791695131575115
                    ]
                  },
                  "2": "1",
                  "3": "1"
                },
                {
                  "0": {
                    "type": 1,
                    "values": [
                      1,
                      1,
                      2,
                      13930,
                      12953,
                      100
                    ]
                  },
                  "1": {
                    "type": 1,
                    "values": [
                      0.1880457380768817,
                      0.8119542619231183
                    ]
                  },
                  "2": "1",
                  "3": "1"
                },
                {
                  "0": {
                    "type": 1,
                    "values": [
                      1,
                      1,
                      2,
                      13930,
                      13198,
                      62
                    ]
                  },
                  "1": {
                    "type": 1,
                    "values": [
                      0.3175937283624933,
                      0.6824062716375068
                    ]
                  },
                  "2": "1",
                  "3": "1"
                },
                {
                  "0": {
                    "type": 1,
                    "values": [
                      1,
                      1,
                      2,
                      13930,
                      13303,
                      29
                    ]
                  },
                  "1": {
                    "type": 1,
                    "values": [
                      0.46001972014079706,
                      0.5399802798592029
                    ]
                  },
                  "2": "1",
                  "3": "1"
                },
                {
                  "0": {
                    "type": 1,
                    "values": [
                      1,
                      1,
                      2,
                      13930,
                      13303,
                      51
                    ]
                  },
                  "1": {
                    "type": 1,
                    "values": [
                      0.36300247818502296,
                      0.636997521814977
                    ]
                  },
                  "2": "1",
                  "3": "1"
                },
                {
                  "0": {
                    "type": 1,
                    "values": [
                      1,
                      1,
                      2,
                      13930,
                      15016,
                      51
                    ]
                  },
                  "1": {
                    "type": 1,
                    "values": [
                      0.368488739273081,
                      0.631511260726919
                    ]
                  },
                  "2": "1",
                  "3": "1"
                },
                {
                  "0": {
                    "type": 1,
                    "values": [
                      1,
                      1,
                      2,
                      14570,
                      11298,
                      50
                    ]
                  },
                  "1": {
                    "type": 1,
                    "values": [
                      0.3631386816972406,
                      0.6368613183027594
                    ]
                  },
                  "2": "1",
                  "3": "1"
                },
                {
                  "0": {
                    "type": 1,
                    "values": [
                      1,
                      1,
                      2,
                      14683,
                      11298,
                      93
                    ]
                  },
                  "1": {
                    "type": 1,
                    "values": [
                      0.20653963043108634,
                      0.7934603695689136
                    ]
                  },
                  "2": "1",
                  "3": "1"
                },
                {
                  "0": {
                    "type": 1,
                    "values": [
                      1,
                      1,
                      2,
                      14771,
                      12478,
                      58
                    ]
                  },
                  "1": {
                    "type": 1,
                    "values": [
                      0.33435519506444755,
                      0.6656448049355524
                    ]
                  },
                  "2": "1",
                  "3": "1"
                },
                {
                  "0": {
                    "type": 1,
                    "values": [
                      1,
                      1,
                      2,
                      14771,
                      12892,
                      -5
                    ]
                  },
                  "1": {
                    "type": 1,
                    "values": [
                      0.615055004613451,
                      0.384944995386549
                    ]
                  },
                  "2": "0",
                  "3": "0"
                },
                {
                  "0": {
                    "type": 1,
                    "values": [
                      1,
                      1,
                      2,
                      15016,
                      12953,
                      37
                    ]
                  },
                  "1": {
                    "type": 1,
                    "values": [
                      0.4269386348469975,
                      0.5730613651530025
                    ]
                  },
                  "2": "1",
                  "3": "1"
                },
                {
                  "0": {
                    "type": 1,
                    "values": [
                      1,
                      1,
                      11,
                      10721,
                      14747,
                      -7
                    ]
                  },
                  "1": {
                    "type": 1,
                    "values": [
                      0.6105246866679107,
                      0.3894753133320893
                    ]
                  },
                  "2": "0",
                  "3": "0"
                },
                {
                  "0": {
                    "type": 1,
                    "values": [
                      1,
                      1,
                      11,
                      12173,
                      13796,
                      29
                    ]
                  },
                  "1": {
                    "type": 1,
                    "values": [
                      0.4504363312883198,
                      0.5495636687116803
                    ]
                  },
                  "2": "1",
                  "3": "0"
                },
                {
                  "0": {
                    "type": 1,
                    "values": [
                      1,
                      1,
                      11,
                      14057,
                      12889,
                      39
                    ]
                  },
                  "1": {
                    "type": 1,
                    "values": [
                      0.4098029661680219,
                      0.5901970338319781
                    ]
                  },
                  "2": "1",
                  "3": "1"
                },
                {
                  "0": {
                    "type": 1,
                    "values": [
                      1,
                      1,
                      11,
                      14747,
                      12892,
                      27
                    ]
                  },
                  "1": {
                    "type": 1,
                    "values": [
                      0.46639066226105147,
                      0.5336093377389486
                    ]
                  },
                  "2": "1",
                  "3": "1"
                },
                {
                  "0": {
                    "type": 1,
                    "values": [
                      1,
                      1,
                      11,
                      14747,
                      14893,
                      -3
                    ]
                  },
                  "1": {
                    "type": 1,
                    "values": [
                      0.6085675095793063,
                      0.3914324904206937
                    ]
                  },
                  "2": "0",
                  "3": "0"
                },
                {
                  "0": {
                    "type": 1,
                    "values": [
                      1,
                      1,
                      7,
                      10721,
                      11697,
                      -6
                    ]
                  },
                  "1": {
                    "type": 1,
                    "values": [
                      0.5979998461585819,
                      0.4020001538414181
                    ]
                  },
                  "2": "0",
                  "3": "0"
                },
                {
                  "0": {
                    "type": 1,
                    "values": [
                      1,
                      1,
                      7,
                      10721,
                      11697,
                      0
                    ]
                  },
                  "1": {
                    "type": 1,
                    "values": [
                      0.5713781875052414,
                      0.4286218124947586
                    ]
                  },
                  "2": "0",
                  "3": "0"
                },
                {
                  "0": {
                    "type": 1,
                    "values": [
                      1,
                      1,
                      7,
                      10721,
                      12264,
                      22
                    ]
                  },
                  "1": {
                    "type": 1,
                    "values": [
                      0.4733282834602017,
                      0.5266717165397983
                    ]
                  },
                  "2": "1",
                  "3": "1"
                },
                {
                  "0": {
                    "type": 1,
                    "values": [
                      1,
                      1,
                      7,
                      10721,
                      14747,
                      102
                    ]
                  },
                  "1": {
                    "type": 1,
                    "values": [
                      0.17731252195390415,
                      0.8226874780460959
                    ]
                  },
                  "2": "1",
                  "3": "1"
                },
                {
                  "0": {
                    "type": 1,
                    "values": [
                      1,
                      1,
                      7,
                      10721,
                      14843,
                      105
                    ]
                  },
                  "1": {
                    "type": 1,
                    "values": [
                      0.16964180571877013,
                      0.8303581942812299
                    ]
                  },
                  "2": "1",
                  "3": "1"
                },
                {
                  "0": {
                    "type": 1,
                    "values": [
                      1,
                      1,
                      7,
                      10821,
                      10721,
                      75
                    ]
                  },
                  "1": {
                    "type": 1,
                    "values": [
                      0.2506387978935392,
                      0.7493612021064608
                    ]
                  },
                  "2": "1",
                  "3": "1"
                },
                {
                  "0": {
                    "type": 1,
                    "values": [
                      1,
                      1,
                      7,
                      11618,
                      11697,
                      137
                    ]
                  },
                  "1": {
                    "type": 1,
                    "values": [
                      0.09952995760497999,
                      0.90047004239502
                    ]
                  },
                  "2": "1",
                  "3": "1"
                },
                {
                  "0": {
                    "type": 1,
                    "values": [
                      1,
                      1,
                      7,
                      11697,
                      10529,
                      7
                    ]
                  },
                  "1": {
                    "type": 1,
                    "values": [
                      0.5395801686695444,
                      0.4604198313304556
                    ]
                  },
                  "2": "0",
                  "3": "0"
                },
                {
                  "0": {
                    "type": 1,
                    "values": [
                      1,
                      1,
                      7,
                      11697,
                      10721,
                      5
                    ]
                  },
                  "1": {
                    "type": 1,
                    "values": [
                      0.5493036016589412,
                      0.4506963983410588
                    ]
                  },
                  "2": "0",
                  "3": "1"
                },
                {
                  "0": {
                    "type": 1,
                    "values": [
                      1,
                      1,
                      7,
                      11697,
                      12953,
                      70
                    ]
                  },
                  "1": {
                    "type": 1,
                    "values": [
                      0.2770127247514236,
                      0.7229872752485764
                    ]
                  },
                  "2": "1",
                  "3": "1"
                },
                {
                  "0": {
                    "type": 1,
                    "values": [
                      1,
                      1,
                      7,
                      11697,
                      14843,
                      137
                    ]
                  },
                  "1": {
                    "type": 1,
                    "values": [
                      0.10360557098282733,
                      0.8963944290171727
                    ]
                  },
                  "2": "1",
                  "3": "1"
                },
                {
                  "0": {
                    "type": 1,
                    "values": [
                      1,
                      1,
                      7,
                      12264,
                      10721,
                      49
                    ]
                  },
                  "1": {
                    "type": 1,
                    "values": [
                      0.3549217567417613,
                      0.6450782432582387
                    ]
                  },
                  "2": "1",
                  "3": "1"
                },
                {
                  "0": {
                    "type": 1,
                    "values": [
                      1,
                      1,
                      7,
                      12264,
                      10721,
                      76
                    ]
                  },
                  "1": {
                    "type": 1,
                    "values": [
                      0.25143908415660643,
                      0.7485609158433936
                    ]
                  },
                  "2": "1",
                  "3": "1"
                },
                {
                  "0": {
                    "type": 1,
                    "values": [
                      1,
                      1,
                      7,
                      12478,
                      12889,
                      63
                    ]
                  },
                  "1": {
                    "type": 1,
                    "values": [
                      0.3057472423699725,
                      0.6942527576300275
                    ]
                  },
                  "2": "1",
                  "3": "1"
                },
                {
                  "0": {
                    "type": 1,
                    "values": [
                      1,
                      1,
                      7,
                      12478,
                      13204,
                      1
                    ]
                  },
                  "1": {
                    "type": 1,
                    "values": [
                      0.5787008272118662,
                      0.4212991727881338
                    ]
                  },
                  "2": "0",
                  "3": "1"
                },
                {
                  "0": {
                    "type": 1,
                    "values": [
                      1,
                      1,
                      7,
                      12478,
                      13204,
                      9
                    ]
                  },
                  "1": {
                    "type": 1,
                    "values": [
                      0.5427024328955502,
                      0.4572975671044498
                    ]
                  },
                  "2": "0",
                  "3": "0"
                },
                {
                  "0": {
                    "type": 1,
                    "values": [
                      1,
                      1,
                      7,
                      12478,
                      13930,
                      127
                    ]
                  },
                  "1": {
                    "type": 1,
                    "values": [
                      0.12180690616229539,
                      0.8781930938377046
                    ]
                  },
                  "2": "1",
                  "3": "1"
                },
                {
                  "0": {
                    "type": 1,
                    "values": [
                      1,
                      1,
                      7,
                      12478,
                      14027,
                      5
                    ]
                  },
                  "1": {
                    "type": 1,
                    "values": [
                      0.5635783169561301,
                      0.43642168304386986
                    ]
                  },
                  "2": "0",
                  "3": "1"
                },
                {
                  "0": {
                    "type": 1,
                    "values": [
                      1,
                      1,
                      7,
                      12478,
                      14679,
                      17
                    ]
                  },
                  "1": {
                    "type": 1,
                    "values": [
                      0.511342008515451,
                      0.488657991484549
                    ]
                  },
                  "2": "0",
                  "3": "1"
                },
                {
                  "0": {
                    "type": 1,
                    "values": [
                      1,
                      1,
                      7,
                      12892,
                      11697,
                      61
                    ]
                  },
                  "1": {
                    "type": 1,
                    "values": [
                      0.3114142399965973,
                      0.6885857600034027
                    ]
                  },
                  "2": "1",
                  "3": "1"
                },
                {
                  "0": {
                    "type": 1,
                    "values": [
                      1,
                      1,
                      7,
                      12892,
                      12478,
                      -6
                    ]
                  },
                  "1": {
                    "type": 1,
                    "values": [
                      0.6086931968314206,
                      0.39130680316857935
                    ]
                  },
                  "2": "0",
                  "3": "1"
                },
                {
                  "0": {
                    "type": 1,
                    "values": [
                      1,
                      1,
                      7,
                      12954,
                      14057,
                      -3
                    ]
                  },
                  "1": {
                    "type": 1,
                    "values": [
                      0.6010303750586699,
                      0.39896962494133015
                    ]
                  },
                  "2": "0",
                  "3": "0"
                },
                {
                  "0": {
                    "type": 1,
                    "values": [
                      1,
                      1,
                      7,
                      13204,
                      12953,
                      45
                    ]
                  },
                  "1": {
                    "type": 1,
                    "values": [
                      0.38251858799189814,
                      0.6174814120081018
                    ]
                  },
                  "2": "1",
                  "3": "0"
                },
                {
                  "0": {
                    "type": 1,
                    "values": [
                      1,
                      1,
                      7,
                      14635,
                      10721,
                      80
                    ]
                  },
                  "1": {
                    "type": 1,
                    "values": [
                      0.2447087091192462,
                      0.7552912908807539
                    ]
                  },
                  "2": "1",
                  "3": "1"
                },
                {
                  "0": {
                    "type": 1,
                    "values": [
                      1,
                      1,
                      7,
                      14635,
                      12478,
                      29
                    ]
                  },
                  "1": {
                    "type": 1,
                    "values": [
                      0.45744007556296784,
                      0.5425599244370322
                    ]
                  },
                  "2": "1",
                  "3": "1"
                },
                {
                  "0": {
                    "type": 1,
                    "values": [
                      1,
                      1,
                      7,
                      14747,
                      10299,
                      9
                    ]
                  },
                  "1": {
                    "type": 1,
                    "values": [
                      0.5415417553206928,
                      0.4584582446793072
                    ]
                  },
                  "2": "0",
                  "3": "0"
                },
                {
                  "0": {
                    "type": 1,
                    "values": [
                      1,
                      1,
                      7,
                      14771,
                      10721,
                      20
                    ]
                  },
                  "1": {
                    "type": 1,
                    "values": [
                      0.4929268820119238,
                      0.5070731179880762
                    ]
                  },
                  "2": "1",
                  "3": "1"
                },
                {
                  "0": {
                    "type": 1,
                    "values": [
                      1,
                      1,
                      7,
                      14843,
                      10529,
                      110
                    ]
                  },
                  "1": {
                    "type": 1,
                    "values": [
                      0.1577924206582943,
                      0.8422075793417056
                    ]
                  },
                  "2": "1",
                  "3": "1"
                },
                {
                  "0": {
                    "type": 1,
                    "values": [
                      1,
                      1,
                      7,
                      14843,
                      11697,
                      60
                    ]
                  },
                  "1": {
                    "type": 1,
                    "values": [
                      0.32196134384353364,
                      0.6780386561564664
                    ]
                  },
                  "2": "1",
                  "3": "1"
                },
                {
                  "0": {
                    "type": 1,
                    "values": [
                      1,
                      1,
                      7,
                      14843,
                      15304,
                      43
                    ]
                  },
                  "1": {
                    "type": 1,
                    "values": [
                      0.4050986996873833,
                      0.5949013003126167
                    ]
                  },
                  "2": "1",
                  "3": "1"
                },
                {
                  "0": {
                    "type": 1,
                    "values": [
                      1,
                      1,
                      7,
                      15304,
                      12478,
                      35
                    ]
                  },
                  "1": {
                    "type": 1,
                    "values": [
                      0.4329396329258834,
                      0.5670603670741166
                    ]
                  },
                  "2": "1",
                  "3": "1"
                },
                {
                  "0": {
                    "type": 1,
                    "values": [
                      1,
                      1,
                      1,
                      10299,
                      14747,
                      27
                    ]
                  },
                  "1": {
                    "type": 1,
                    "values": [
                      0.46046479963085485,
                      0.5395352003691452
                    ]
                  },
                  "2": "1",
                  "3": "1"
                },
                {
                  "0": {
                    "type": 1,
                    "values": [
                      1,
                      1,
                      1,
                      10397,
                      10721,
                      71
                    ]
                  },
                  "1": {
                    "type": 1,
                    "values": [
                      0.2656683935801777,
                      0.7343316064198223
                    ]
                  },
                  "2": "1",
                  "3": "1"
                },
                {
                  "0": {
                    "type": 1,
                    "values": [
                      1,
                      1,
                      1,
                      10397,
                      10821,
                      -5
                    ]
                  },
                  "1": {
                    "type": 1,
                    "values": [
                      0.592356789753645,
                      0.40764321024635497
                    ]
                  },
                  "2": "0",
                  "3": "0"
                },
                {
                  "0": {
                    "type": 1,
                    "values": [
                      1,
                      1,
                      1,
                      10397,
                      10821,
                      28
                    ]
                  },
                  "1": {
                    "type": 1,
                    "values": [
                      0.4428946492785688,
                      0.5571053507214312
                    ]
                  },
                  "2": "1",
                  "3": "1"
                },
                {
                  "0": {
                    "type": 1,
                    "values": [
                      1,
                      1,
                      1,
                      10397,
                      11618,
                      39
                    ]
                  },
                  "1": {
                    "type": 1,
                    "values": [
                      0.3966447549990804,
                      0.6033552450009196
                    ]
                  },
                  "2": "1",
                  "3": "1"
                },
                {
                  "0": {
                    "type": 1,
                    "values": [
                      1,
                      1,
                      1,
                      10397,
                      12478,
                      73
                    ]
                  },
                  "1": {
                    "type": 1,
                    "values": [
                      0.26327651917496375,
                      0.7367234808250362
                    ]
                  },
                  "2": "1",
                  "3": "1"
                },
                {
                  "0": {
                    "type": 1,
                    "values": [
                      1,
                      1,
                      1,
                      10397,
                      12889,
                      -3
                    ]
                  },
                  "1": {
                    "type": 1,
                    "values": [
                      0.5904230986460821,
                      0.4095769013539179
                    ]
                  },
                  "2": "0",
                  "3": "0"
                },
                {
                  "0": {
                    "type": 1,
                    "values": [
                      1,
                      1,
                      1,
                      10397,
                      13204,
                      0
                    ]
                  },
                  "1": {
                    "type": 1,
                    "values": [
                      0.5781620392999546,
                      0.4218379607000454
                    ]
                  },
                  "2": "0",
                  "3": "0"
                },
                {
                  "0": {
                    "type": 1,
                    "values": [
                      1,
                      1,
                      1,
                      10397,
                      13204,
                      0
                    ]
                  },
                  "1": {
                    "type": 1,
                    "values": [
                      0.5781620392999546,
                      0.4218379607000454
                    ]
                  },
                  "2": "0",
                  "3": "1"
                }
              ],
              "schema": [
                {
                  "key": "0",
                  "name": "features",
                  "type": "org.apache.spark.ml.linalg.VectorUDT@3bfc3ba7"
                },
                {
                  "key": "1",
                  "name": "probability",
                  "type": "org.apache.spark.ml.linalg.VectorUDT@3bfc3ba7"
                },
                {
                  "key": "2",
                  "name": "prediction",
                  "type": "int"
                },
                {
                  "key": "3",
                  "name": "trueLabel",
                  "type": "int"
                }
              ],
              "truncated": false
            },
            "isSummary": false,
            "language": "scala"
          },
          "persist_state": {
            "view": {
              "type": "details",
              "tableOptions": {},
              "chartOptions": {
                "chartType": "bar",
                "aggregationType": "sum",
                "categoryFieldKeys": [
                  "3"
                ],
                "seriesFieldKeys": [
                  "2"
                ],
                "isStacked": false
              }
            }
          }
        }
      }
    }
  },
  "nbformat": 4,
  "nbformat_minor": 2
}